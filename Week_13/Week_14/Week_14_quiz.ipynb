{
 "cells": [
  {
   "cell_type": "code",
   "execution_count": null,
   "metadata": {},
   "outputs": [],
   "source": []
  },
  {
   "cell_type": "markdown",
   "metadata": {},
   "source": [
    "Look up the Adam optimization functions in PyTorch https://pytorch.org/docs/stable/optim.html . How does it work? Try at least one other \n",
    "\n",
    "optimization function with the diabetes dataset shown in class. How does the model perform with the new optimizer? Did it perform better or\n",
    "\n",
    " worse than Adam? Why do you think that is?"
   ]
  },
  {
   "cell_type": "markdown",
   "metadata": {},
   "source": [
    "Adelta is an adaptive learning rate algorithm, adam is a stochastic method (non adaptive,i think)\n",
    "\n",
    "Adelta did better\n",
    "\n",
    "The underlying math is (largely illegible to me) less is a less complicated aproach, which might be better given the simplicity of the dataset."
   ]
  },
  {
   "cell_type": "markdown",
   "metadata": {},
   "source": []
  }
 ],
 "metadata": {
  "language_info": {
   "name": "python"
  }
 },
 "nbformat": 4,
 "nbformat_minor": 2
}
