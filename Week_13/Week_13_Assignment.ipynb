{
 "cells": [
  {
   "cell_type": "code",
   "execution_count": 3,
   "metadata": {},
   "outputs": [
    {
     "name": "stdout",
     "output_type": "stream",
     "text": [
      "Requirement already satisfied: nltk in c:\\users\\admin\\appdata\\local\\programs\\python\\python39\\lib\\site-packages (3.8.1)\n",
      "Requirement already satisfied: click in c:\\users\\admin\\appdata\\local\\programs\\python\\python39\\lib\\site-packages (from nltk) (8.1.7)\n",
      "Requirement already satisfied: joblib in c:\\users\\admin\\appdata\\local\\programs\\python\\python39\\lib\\site-packages (from nltk) (1.3.2)\n",
      "Requirement already satisfied: regex>=2021.8.3 in c:\\users\\admin\\appdata\\local\\programs\\python\\python39\\lib\\site-packages (from nltk) (2023.12.25)\n",
      "Requirement already satisfied: tqdm in c:\\users\\admin\\appdata\\local\\programs\\python\\python39\\lib\\site-packages (from nltk) (4.66.2)\n",
      "Requirement already satisfied: colorama in c:\\users\\admin\\appdata\\local\\programs\\python\\python39\\lib\\site-packages (from click->nltk) (0.4.6)\n",
      "Note: you may need to restart the kernel to use updated packages.\n"
     ]
    },
    {
     "name": "stderr",
     "output_type": "stream",
     "text": [
      "\n",
      "[notice] A new release of pip is available: 23.3.2 -> 24.0\n",
      "[notice] To update, run: python.exe -m pip install --upgrade pip\n"
     ]
    },
    {
     "name": "stdout",
     "output_type": "stream",
     "text": [
      "Requirement already satisfied: matplotlib in c:\\users\\admin\\appdata\\local\\programs\\python\\python39\\lib\\site-packages (3.8.2)\n",
      "Requirement already satisfied: contourpy>=1.0.1 in c:\\users\\admin\\appdata\\local\\programs\\python\\python39\\lib\\site-packages (from matplotlib) (1.2.0)\n",
      "Requirement already satisfied: cycler>=0.10 in c:\\users\\admin\\appdata\\local\\programs\\python\\python39\\lib\\site-packages (from matplotlib) (0.12.1)\n",
      "Requirement already satisfied: fonttools>=4.22.0 in c:\\users\\admin\\appdata\\local\\programs\\python\\python39\\lib\\site-packages (from matplotlib) (4.47.2)\n",
      "Requirement already satisfied: kiwisolver>=1.3.1 in c:\\users\\admin\\appdata\\local\\programs\\python\\python39\\lib\\site-packages (from matplotlib) (1.4.5)\n",
      "Requirement already satisfied: numpy<2,>=1.21 in c:\\users\\admin\\appdata\\local\\programs\\python\\python39\\lib\\site-packages (from matplotlib) (1.26.3)\n",
      "Requirement already satisfied: packaging>=20.0 in c:\\users\\admin\\appdata\\local\\programs\\python\\python39\\lib\\site-packages (from matplotlib) (23.2)\n",
      "Requirement already satisfied: pillow>=8 in c:\\users\\admin\\appdata\\local\\programs\\python\\python39\\lib\\site-packages (from matplotlib) (10.2.0)\n",
      "Requirement already satisfied: pyparsing>=2.3.1 in c:\\users\\admin\\appdata\\local\\programs\\python\\python39\\lib\\site-packages (from matplotlib) (3.1.1)\n",
      "Requirement already satisfied: python-dateutil>=2.7 in c:\\users\\admin\\appdata\\local\\programs\\python\\python39\\lib\\site-packages (from matplotlib) (2.8.2)\n",
      "Requirement already satisfied: importlib-resources>=3.2.0 in c:\\users\\admin\\appdata\\local\\programs\\python\\python39\\lib\\site-packages (from matplotlib) (6.1.1)\n",
      "Requirement already satisfied: zipp>=3.1.0 in c:\\users\\admin\\appdata\\local\\programs\\python\\python39\\lib\\site-packages (from importlib-resources>=3.2.0->matplotlib) (3.17.0)\n",
      "Requirement already satisfied: six>=1.5 in c:\\users\\admin\\appdata\\local\\programs\\python\\python39\\lib\\site-packages (from python-dateutil>=2.7->matplotlib) (1.16.0)\n",
      "Note: you may need to restart the kernel to use updated packages.\n"
     ]
    },
    {
     "name": "stderr",
     "output_type": "stream",
     "text": [
      "\n",
      "[notice] A new release of pip is available: 23.3.2 -> 24.0\n",
      "[notice] To update, run: python.exe -m pip install --upgrade pip\n"
     ]
    },
    {
     "name": "stdout",
     "output_type": "stream",
     "text": [
      "Requirement already satisfied: numpy in c:\\users\\admin\\appdata\\local\\programs\\python\\python39\\lib\\site-packages (1.26.3)\n",
      "Note: you may need to restart the kernel to use updated packages.\n"
     ]
    },
    {
     "name": "stderr",
     "output_type": "stream",
     "text": [
      "\n",
      "[notice] A new release of pip is available: 23.3.2 -> 24.0\n",
      "[notice] To update, run: python.exe -m pip install --upgrade pip\n"
     ]
    },
    {
     "name": "stdout",
     "output_type": "stream",
     "text": [
      "Requirement already satisfied: pandas in c:\\users\\admin\\appdata\\local\\programs\\python\\python39\\lib\\site-packages (2.2.0)\n",
      "Requirement already satisfied: numpy<2,>=1.22.4 in c:\\users\\admin\\appdata\\local\\programs\\python\\python39\\lib\\site-packages (from pandas) (1.26.3)\n",
      "Requirement already satisfied: python-dateutil>=2.8.2 in c:\\users\\admin\\appdata\\local\\programs\\python\\python39\\lib\\site-packages (from pandas) (2.8.2)\n",
      "Requirement already satisfied: pytz>=2020.1 in c:\\users\\admin\\appdata\\local\\programs\\python\\python39\\lib\\site-packages (from pandas) (2023.4)\n",
      "Requirement already satisfied: tzdata>=2022.7 in c:\\users\\admin\\appdata\\local\\programs\\python\\python39\\lib\\site-packages (from pandas) (2023.4)\n",
      "Requirement already satisfied: six>=1.5 in c:\\users\\admin\\appdata\\local\\programs\\python\\python39\\lib\\site-packages (from python-dateutil>=2.8.2->pandas) (1.16.0)\n",
      "Note: you may need to restart the kernel to use updated packages.\n"
     ]
    },
    {
     "name": "stderr",
     "output_type": "stream",
     "text": [
      "\n",
      "[notice] A new release of pip is available: 23.3.2 -> 24.0\n",
      "[notice] To update, run: python.exe -m pip install --upgrade pip\n"
     ]
    }
   ],
   "source": [
    "%pip install nltk\n",
    "%pip install matplotlib\n",
    "%pip install numpy\n",
    "%pip install pandas"
   ]
  },
  {
   "cell_type": "code",
   "execution_count": 29,
   "metadata": {},
   "outputs": [],
   "source": [
    "import matplotlib.pyplot as plt\n",
    "import nltk\n",
    "from nltk.tokenize import word_tokenize\n",
    "from nltk.stem.snowball import SnowballStemmer\n",
    "from nltk.stem import WordNetLemmatizer\n",
    "import numpy as np\n",
    "import pandas as pd\n",
    "from nltk.sentiment.vader import SentimentIntensityAnalyzer"
   ]
  },
  {
   "cell_type": "markdown",
   "metadata": {},
   "source": [
    "\n",
    "\n",
    "(10 pts) Perform Vader Sentiment Analysis on the book.\n",
    "\n",
    "Find the 5 most negative, 5 most positive, and 5 most neutral sentences in Paradise Lost*. http://www.nltk.org/howto/sentiment.htmlLinks\n",
    "\n",
    "to an external site. . This may take a while to run, so you can always start with a small subset of the data (100 sentences) and then \n",
    "\n",
    "once your code works as expected, expand it to the whole book and let it run.\n",
    "\n",
    "(3 pts) Explain your findings from the previous question. Are the sentences and their sentiment analysis scores correct? Explain why or why not.\n"
   ]
  },
  {
   "cell_type": "code",
   "execution_count": 30,
   "metadata": {},
   "outputs": [
    {
     "name": "stderr",
     "output_type": "stream",
     "text": [
      "[nltk_data] Downloading package gutenberg to\n",
      "[nltk_data]     C:\\Users\\Admin\\AppData\\Roaming\\nltk_data...\n",
      "[nltk_data]   Package gutenberg is already up-to-date!\n",
      "[nltk_data] Downloading package punkt to\n",
      "[nltk_data]     C:\\Users\\Admin\\AppData\\Roaming\\nltk_data...\n",
      "[nltk_data]   Package punkt is already up-to-date!\n",
      "[nltk_data] Downloading package stopwords to\n",
      "[nltk_data]     C:\\Users\\Admin\\AppData\\Roaming\\nltk_data...\n",
      "[nltk_data]   Package stopwords is already up-to-date!\n",
      "[nltk_data] Downloading package vader_lexicon to\n",
      "[nltk_data]     C:\\Users\\Admin\\AppData\\Roaming\\nltk_data...\n",
      "[nltk_data]   Package vader_lexicon is already up-to-date!\n"
     ]
    },
    {
     "data": {
      "text/plain": [
       "True"
      ]
     },
     "execution_count": 30,
     "metadata": {},
     "output_type": "execute_result"
    }
   ],
   "source": [
    "nltk.download('gutenberg')\n",
    "nltk.download('punkt')\n",
    "nltk.download('stopwords')\n",
    "nltk.download('vader_lexicon')"
   ]
  },
  {
   "cell_type": "markdown",
   "metadata": {},
   "source": [
    "I do not have a particular reason for using stemming as opposed to lemmitazation, I know lemmitazation is better."
   ]
  },
  {
   "cell_type": "code",
   "execution_count": 39,
   "metadata": {},
   "outputs": [
    {
     "name": "stdout",
     "output_type": "stream",
     "text": [
      "[\"('and',)\", \"('i',)\", \"('of',)\", \"('heaven',)\", \"('to',)\", \"('the',)\", \"('thou',)\", \"('thi',)\", \"('thee',)\", \"('thus',)\", \"('god',)\", \"('in',)\", \"('with',)\", \"('shall',)\", \"('yet',)\", \"('earth',)\", \"('but',)\", \"('though',)\", \"('us',)\", \"('his',)\"]\n"
     ]
    },
    {
     "data": {
      "image/png": "[encoded data removed]",
      "text/plain": [
       "<Figure size 640x480 with 1 Axes>"
      ]
     },
     "metadata": {},
     "output_type": "display_data"
    }
   ],
   "source": [
    "def nltk_corpus_word_stats(TEXT: str)-> list: # how do you type hint a graph?\n",
    "    \"\"\"Takes a text from the gutenberg library and finds the top 20 most common, non-stop word, stems\"\"\"\n",
    "\n",
    "    altered_logic=[]\n",
    "    stop = set(nltk.corpus.stopwords.words('english'))\n",
    "    corpus = nltk.corpus.gutenberg.sents(TEXT)\n",
    "    cleaned_corpus=[]\n",
    "\n",
    "    for words in corpus:\n",
    "  \n",
    "        cleaned_corpus.append([x for x in words if x.isalnum() and x not in stop and x not in altered_logic]) #can't make it lowercase\n",
    "                                        #i dont know why it refuses to be lowercase, but if just says that .lower() cant be used\n",
    "    stemmer = SnowballStemmer('english')\n",
    "    stems = []\n",
    "\n",
    "    for x in cleaned_corpus:\n",
    "        for i in x:\n",
    "            stems.append(stemmer.stem(i))\n",
    "\n",
    "    value_counts = pd.DataFrame(stems).value_counts()\n",
    "    value_dict = [str(x) for x in dict(value_counts)]\n",
    "\n",
    "    words_list = [] # yes the words have a bunch of formatting attached to them, I tried to clean it but there is some type error\n",
    "    for x in value_dict:# and it hasnt worked after like 40 minutes of trying, so im leaving it like that\n",
    "        words_list.append(x)\n",
    "\n",
    "    print(words_list[:20])\n",
    "    plt.bar(words_list[:20],value_counts[:20])\n",
    "    plt.xlabel(\"words\")\n",
    "    plt.ylabel(\"count\")\n",
    "\n",
    "    \n",
    "nltk_corpus_word_stats('milton-paradise.txt')\n",
    "\n"
   ]
  },
  {
   "cell_type": "code",
   "execution_count": 96,
   "metadata": {},
   "outputs": [
    {
     "data": {
      "text/plain": [
       "{'Positives': [605                                       [O, friends, !]\n",
       "  1441                                       [O, Heaven, !]\n",
       "  828                                        [O, Heaven, !]\n",
       "  908                                       [O, Friends, !]\n",
       "  1233    [She, fair, ,, divinely, fair, ,, fit, love, f...\n",
       "  Name: text, dtype: object],\n",
       " 'Negatives': [512           [O, Hell, !]\n",
       "  153                [No, !]\n",
       "  1689             [Alas, !]\n",
       "  478     [Me, miserable, !]\n",
       "  175         [Sad, cure, !]\n",
       "  Name: text, dtype: object],\n",
       " 'Neutrals': [1850                                   [[, The, End, ]\u001a\u001a]\n",
       "  1236    [and, toward, Eve, Addressed, his, way, :, not...\n",
       "  1214    [So, spake, the, patriarch, of, mankind, ;, bu...\n",
       "  327                                     [whom, follow, ?]\n",
       "  326     [Thou, art, my, father, ,, thou, my, author, ,...\n",
       "  Name: text, dtype: object]}"
      ]
     },
     "execution_count": 96,
     "metadata": {},
     "output_type": "execute_result"
    }
   ],
   "source": [
    "def nltk_corpus_sentiment_analyser(TEXT:str) ->pd.DataFrame:\n",
    "    \"\"\"finds the 5 most positive, negative, and neutral sentences from a gutenberg text\"\"\"\n",
    "    corpus = nltk.corpus.gutenberg.sents('milton-paradise.txt')\n",
    "    analyzer = SentimentIntensityAnalyzer()\n",
    "    sentiments = []\n",
    "\n",
    "\n",
    "    for x in corpus:\n",
    "        corpus_string = ''\n",
    "        for i in x:\n",
    "            corpus_string = corpus_string + ' '+i\n",
    "\n",
    "        sentiment = analyzer.polarity_scores(corpus_string)\n",
    "        compound = sentiment['compound']\n",
    "        pos = sentiment['pos']\n",
    "        neg = sentiment['neg']\n",
    "        neu = sentiment['neu']\n",
    "\n",
    "        sentiments.append({\n",
    "        \"text\":x,\n",
    "        \"Compound\":compound,\n",
    "        \"Positive\":pos,\n",
    "        \"Negative\":neg,\n",
    "        \"Neutral\":neu\n",
    "        })\n",
    "\n",
    "    df = pd.DataFrame(sentiments)\n",
    "    max_pos=[df.sort_values('Positive',ascending=False)['text'][:5]]\n",
    "    max_neg=[df.sort_values('Negative',ascending=False)['text'][:5]]\n",
    "    max_neu=[df.sort_values('Neutral',ascending=False)['text'][:5]]\n",
    "\n",
    "    return({'Positives':max_pos,\n",
    "            'Negatives':max_neg,\n",
    "            'Neutrals':max_neu})\n",
    "\n",
    "\n",
    "nltk_corpus_sentiment_analyser('milton-paradise.txt')\n"
   ]
  },
  {
   "cell_type": "markdown",
   "metadata": {},
   "source": [
    "Basically all of the sentences that it chose for positive and negative are simple ones. This makes sense as the composition of the sentence is basic, so there is less room for complexity to sway it into a mix of positive and negative.\n",
    "\n",
    "I didnt expect great accuracy as it is reding an older version of english, but it is suprisingly decent.\n",
    "\n",
    "I think the neutral sentences are not as neutral as it thinks, but I doubt it was designed to read this style of english."
   ]
  },
  {
   "cell_type": "code",
   "execution_count": null,
   "metadata": {},
   "outputs": [],
   "source": []
  }
 ],
 "metadata": {
  "kernelspec": {
   "display_name": "Python 3",
   "language": "python",
   "name": "python3"
  },
  "language_info": {
   "codemirror_mode": {
    "name": "ipython",
    "version": 3
   },
   "file_extension": ".py",
   "mimetype": "text/x-python",
   "name": "python",
   "nbconvert_exporter": "python",
   "pygments_lexer": "ipython3",
   "version": "3.9.1rc1"
  }
 },
 "nbformat": 4,
 "nbformat_minor": 2
}
