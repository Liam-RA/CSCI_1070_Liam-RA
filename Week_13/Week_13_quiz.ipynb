{
 "cells": [
  {
   "cell_type": "code",
   "execution_count": 3,
   "metadata": {},
   "outputs": [
    {
     "data": {
      "text/plain": [
       "['a', 'b']"
      ]
     },
     "execution_count": 3,
     "metadata": {},
     "output_type": "execute_result"
    }
   ],
   "source": [
    "#1.\n",
    "\n",
    "def alphabet_list(LIST:list) -> list:\n",
    "    \"\"\"Removes the nums from a list\"\"\"\n",
    "    filler_list = []\n",
    "    alphabet = 'abcdefghijklmnopqrstuvwxyz'\n",
    "\n",
    "    for i in LIST:\n",
    "        if type(i) == str:\n",
    "            if i.lower() in alphabet:\n",
    "                filler_list.append(i)\n",
    "\n",
    "    return(filler_list)\n",
    "\n",
    "input = [1,2,'a','b',7.6]\n",
    "\n",
    "alphabet_list(input)"
   ]
  },
  {
   "cell_type": "code",
   "execution_count": 9,
   "metadata": {},
   "outputs": [
    {
     "name": "stdout",
     "output_type": "stream",
     "text": [
      "1\n",
      "2\n",
      "3 fizz\n",
      "4\n",
      "5 buzz\n",
      "6 fizz\n",
      "7\n",
      "8\n",
      "9 fizz\n",
      "10 buzz\n",
      "11\n",
      "12 fizz\n",
      "13\n",
      "14\n",
      "15 fizzbuzz\n"
     ]
    }
   ],
   "source": [
    "def fizzbuzz_is_back(INT:int) -> int:\n",
    "    \"\"\"breaks an int into its component whle numbers, and also informs you if the num is divisible by 3,5,or both\"\"\"\n",
    "\n",
    "    i=1\n",
    "    while i<=INT:\n",
    "        if i%3 ==0 and i%5 ==0:\n",
    "            print(str(i) + \" fizzbuzz\")\n",
    "            i+=1\n",
    "        elif i%3==0:\n",
    "            print(str(i) + \" fizz\")\n",
    "            i+=1\n",
    "        elif i%5==0:\n",
    "            print(str(i) + \" buzz\")\n",
    "            i+=1\n",
    "        else:\n",
    "            print(i)\n",
    "            i+=1\n",
    "\n",
    "fizzbuzz_is_back(15)\n",
    "        "
   ]
  },
  {
   "cell_type": "code",
   "execution_count": null,
   "metadata": {},
   "outputs": [],
   "source": []
  }
 ],
 "metadata": {
  "kernelspec": {
   "display_name": "Python 3",
   "language": "python",
   "name": "python3"
  },
  "language_info": {
   "codemirror_mode": {
    "name": "ipython",
    "version": 3
   },
   "file_extension": ".py",
   "mimetype": "text/x-python",
   "name": "python",
   "nbconvert_exporter": "python",
   "pygments_lexer": "ipython3",
   "version": "3.9.1"
  }
 },
 "nbformat": 4,
 "nbformat_minor": 2
}
