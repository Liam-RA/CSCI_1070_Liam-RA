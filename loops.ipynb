{
 "cells": [
  {
   "cell_type": "code",
   "execution_count": 1,
   "id": "148525d1-dc48-4e44-bce2-d59751ee89a4",
   "metadata": {},
   "outputs": [
    {
     "name": "stdin",
     "output_type": "stream",
     "text": [
      " 3\n"
     ]
    },
    {
     "name": "stdout",
     "output_type": "stream",
     "text": [
      "The variable x has a value of 3\n"
     ]
    }
   ],
   "source": [
    "x = input()\n",
    "\n",
    "print('The variable x has a value of ' + x)"
   ]
  },
  {
   "cell_type": "code",
   "execution_count": 2,
   "id": "30686700-4731-44d1-9567-e175fbb963f4",
   "metadata": {},
   "outputs": [],
   "source": [
    "# loops and functions"
   ]
  },
  {
   "cell_type": "code",
   "execution_count": 7,
   "id": "e03233b5-d055-4af3-8474-ecfa1af4cd22",
   "metadata": {},
   "outputs": [
    {
     "name": "stdin",
     "output_type": "stream",
     "text": [
      " 0\n",
      " 3\n"
     ]
    },
    {
     "name": "stdout",
     "output_type": "stream",
     "text": [
      "b is greater\n"
     ]
    }
   ],
   "source": [
    "#basic loops\n",
    "#if, elif, else\n",
    "#if a = b, return \"they are equal\"\n",
    "#if a > b, return \"a is greater\"\n",
    "# a < b, return \" b is greater\"\n",
    "a = input()\n",
    "b = input()\n",
    "\n",
    "# we use == to compare 2 variables, = just assigns a value\n",
    "if a == b:\n",
    "    print('they are equal')\n",
    "elif a > b:\n",
    "    print('a is greater')\n",
    "elif a < b:\n",
    "    print('b is greater')"
   ]
  },
  {
   "cell_type": "code",
   "execution_count": 9,
   "id": "4e221dc6-5509-4a8c-beb5-566fed77dd6a",
   "metadata": {},
   "outputs": [
    {
     "name": "stdin",
     "output_type": "stream",
     "text": [
      "11 11\n"
     ]
    },
    {
     "name": "stdout",
     "output_type": "stream",
     "text": [
      "greater than 7\n",
      "greater than 7\n"
     ]
    }
   ],
   "source": [
    "#While loop\n",
    "#repeatedly runs an expression until a condition is met\n",
    "x = int(input(x))\n",
    "\n",
    "while x > 7:\n",
    "    print('greater than 7')\n",
    "    x = x - 3"
   ]
  },
  {
   "cell_type": "code",
   "execution_count": 10,
   "id": "e2592623-cc33-4216-a9b4-fff7e41ac9ef",
   "metadata": {},
   "outputs": [
    {
     "name": "stdout",
     "output_type": "stream",
     "text": [
      "3\n",
      "4\n",
      "5\n",
      "6\n",
      "7\n",
      "8\n",
      "9\n"
     ]
    }
   ],
   "source": [
    "# create a situation where x starts at 3 an is incremented by 1\n",
    "# print the value of x while it is less than 3\n",
    "x = 3\n",
    "\n",
    "while x < 10:\n",
    "    print(x)\n",
    "    x +=1"
   ]
  },
  {
   "cell_type": "code",
   "execution_count": 13,
   "id": "0fea5b23-0372-4cc5-89f4-51d16c1eb079",
   "metadata": {},
   "outputs": [
    {
     "name": "stdout",
     "output_type": "stream",
     "text": [
      "Dexter\n",
      "Pharoh\n",
      "Oreo\n",
      "Midas\n",
      "Enzo\n",
      "Warmonger\n"
     ]
    }
   ],
   "source": [
    "# 'for' loops\n",
    "cats = ['Dexter', 'Pharoh', 'Oreo', 'Midas', 'Enzo', 'Warmonger']\n",
    "for i in cats:\n",
    "    print(i)"
   ]
  },
  {
   "cell_type": "code",
   "execution_count": 23,
   "id": "69db8d26-8740-4db9-9bdb-91149d68cbc7",
   "metadata": {},
   "outputs": [
    {
     "name": "stdout",
     "output_type": "stream",
     "text": [
      "2\n",
      "4\n",
      "6\n",
      "8\n"
     ]
    }
   ],
   "source": [
    "# range (start,stop,[step])\n",
    "# something in [] is optional and not requried for the function to work\n",
    "\n",
    "for i in range(2,10,2):\n",
    "    print(i)\n",
    "    # 10 isnt included because 'stop isn't included'"
   ]
  },
  {
   "cell_type": "code",
   "execution_count": 29,
   "id": "d4b44394-0a24-4428-8c29-80b036f5c737",
   "metadata": {},
   "outputs": [],
   "source": [
    "# functions\n",
    "# functions let us 'incapsulate' chuncks of code that we might want to reuse\n",
    "def function_name(a,b):\n",
    "    if a == b:\n",
    "        print('they are equal')\n",
    "    elif a > b:\n",
    "        print('a is greater')\n",
    "    elif a < b:\n",
    "        print('b is greater')\n",
    "# def stands for defenition, so we are defining (function_name) as 'the function below'"
   ]
  },
  {
   "cell_type": "code",
   "execution_count": 28,
   "id": "a19ab24a-6270-45b0-9614-c1ebbb743038",
   "metadata": {},
   "outputs": [
    {
     "name": "stdout",
     "output_type": "stream",
     "text": [
      "a is greater\n"
     ]
    }
   ],
   "source": [
    "# note: this is a different cell\n",
    "function_name(45,10)"
   ]
  },
  {
   "cell_type": "code",
   "execution_count": 3,
   "id": "d065ff59-0752-4abf-8dfc-b6ca93cfd134",
   "metadata": {},
   "outputs": [
    {
     "ename": "ModuleNotFoundError",
     "evalue": "No module named 'Ipython'",
     "output_type": "error",
     "traceback": [
      "\u001b[1;31m---------------------------------------------------------------------------\u001b[0m",
      "\u001b[1;31mModuleNotFoundError\u001b[0m                       Traceback (most recent call last)",
      "Cell \u001b[1;32mIn[3], line 1\u001b[0m\n\u001b[1;32m----> 1\u001b[0m \u001b[38;5;28;01mfrom\u001b[39;00m \u001b[38;5;21;01mIpython\u001b[39;00m\u001b[38;5;21;01m.\u001b[39;00m\u001b[38;5;21;01mdisplay\u001b[39;00m \u001b[38;5;28;01mimport\u001b[39;00m image\n\u001b[0;32m      2\u001b[0m image(filename\u001b[38;5;241m=\u001b[39m\u001b[38;5;124m'\u001b[39m\u001b[38;5;124mScreenshot 2024-01-24 204225\u001b[39m\u001b[38;5;124m'\u001b[39m)\n",
      "\u001b[1;31mModuleNotFoundError\u001b[0m: No module named 'Ipython'"
     ]
    }
   ],
   "source": [
    "from Ipython.display import image\n",
    "image(filename='Screenshot 2024-01-24 204225')"
   ]
  },
  {
   "cell_type": "code",
   "execution_count": null,
   "id": "dd3e9c02-f8a6-4972-8939-aa442d67be25",
   "metadata": {},
   "outputs": [],
   "source": []
  }
 ],
 "metadata": {
  "kernelspec": {
   "display_name": "Python 3 (ipykernel)",
   "language": "python",
   "name": "python3"
  },
  "language_info": {
   "codemirror_mode": {
    "name": "ipython",
    "version": 3
   },
   "file_extension": ".py",
   "mimetype": "text/x-python",
   "name": "python",
   "nbconvert_exporter": "python",
   "pygments_lexer": "ipython3",
   "version": "3.9.1rc1"
  }
 },
 "nbformat": 4,
 "nbformat_minor": 5
}
