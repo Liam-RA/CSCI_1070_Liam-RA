{
 "cells": [
  {
   "cell_type": "code",
   "execution_count": 5,
   "metadata": {},
   "outputs": [
    {
     "name": "stdout",
     "output_type": "stream",
     "text": [
      "Requirement already satisfied: pandas in c:\\users\\admin\\appdata\\local\\programs\\python\\python39\\lib\\site-packages (2.2.0)\n",
      "Requirement already satisfied: numpy<2,>=1.22.4 in c:\\users\\admin\\appdata\\local\\programs\\python\\python39\\lib\\site-packages (from pandas) (1.26.3)\n",
      "Requirement already satisfied: python-dateutil>=2.8.2 in c:\\users\\admin\\appdata\\local\\programs\\python\\python39\\lib\\site-packages (from pandas) (2.8.2)\n",
      "Requirement already satisfied: pytz>=2020.1 in c:\\users\\admin\\appdata\\local\\programs\\python\\python39\\lib\\site-packages (from pandas) (2023.4)\n",
      "Requirement already satisfied: tzdata>=2022.7 in c:\\users\\admin\\appdata\\local\\programs\\python\\python39\\lib\\site-packages (from pandas) (2023.4)\n",
      "Requirement already satisfied: six>=1.5 in c:\\users\\admin\\appdata\\local\\programs\\python\\python39\\lib\\site-packages (from python-dateutil>=2.8.2->pandas) (1.16.0)\n",
      "Note: you may need to restart the kernel to use updated packages.\n"
     ]
    },
    {
     "name": "stderr",
     "output_type": "stream",
     "text": [
      "\n",
      "[notice] A new release of pip is available: 23.3.2 -> 24.0\n",
      "[notice] To update, run: python.exe -m pip install --upgrade pip\n"
     ]
    },
    {
     "name": "stdout",
     "output_type": "stream",
     "text": [
      "Requirement already satisfied: numpy in c:\\users\\admin\\appdata\\local\\programs\\python\\python39\\lib\\site-packages (1.26.3)\n",
      "Note: you may need to restart the kernel to use updated packages.\n"
     ]
    },
    {
     "name": "stderr",
     "output_type": "stream",
     "text": [
      "\n",
      "[notice] A new release of pip is available: 23.3.2 -> 24.0\n",
      "[notice] To update, run: python.exe -m pip install --upgrade pip\n"
     ]
    },
    {
     "name": "stdout",
     "output_type": "stream",
     "text": [
      "Requirement already satisfied: matplotlib in c:\\users\\admin\\appdata\\local\\programs\\python\\python39\\lib\\site-packages (3.8.2)\n",
      "Requirement already satisfied: contourpy>=1.0.1 in c:\\users\\admin\\appdata\\local\\programs\\python\\python39\\lib\\site-packages (from matplotlib) (1.2.0)\n",
      "Requirement already satisfied: cycler>=0.10 in c:\\users\\admin\\appdata\\local\\programs\\python\\python39\\lib\\site-packages (from matplotlib) (0.12.1)\n",
      "Requirement already satisfied: fonttools>=4.22.0 in c:\\users\\admin\\appdata\\local\\programs\\python\\python39\\lib\\site-packages (from matplotlib) (4.47.2)\n",
      "Requirement already satisfied: kiwisolver>=1.3.1 in c:\\users\\admin\\appdata\\local\\programs\\python\\python39\\lib\\site-packages (from matplotlib) (1.4.5)\n",
      "Requirement already satisfied: numpy<2,>=1.21 in c:\\users\\admin\\appdata\\local\\programs\\python\\python39\\lib\\site-packages (from matplotlib) (1.26.3)\n",
      "Requirement already satisfied: packaging>=20.0 in c:\\users\\admin\\appdata\\local\\programs\\python\\python39\\lib\\site-packages (from matplotlib) (23.2)\n",
      "Requirement already satisfied: pillow>=8 in c:\\users\\admin\\appdata\\local\\programs\\python\\python39\\lib\\site-packages (from matplotlib) (10.2.0)\n",
      "Requirement already satisfied: pyparsing>=2.3.1 in c:\\users\\admin\\appdata\\local\\programs\\python\\python39\\lib\\site-packages (from matplotlib) (3.1.1)\n",
      "Requirement already satisfied: python-dateutil>=2.7 in c:\\users\\admin\\appdata\\local\\programs\\python\\python39\\lib\\site-packages (from matplotlib) (2.8.2)\n",
      "Requirement already satisfied: importlib-resources>=3.2.0 in c:\\users\\admin\\appdata\\local\\programs\\python\\python39\\lib\\site-packages (from matplotlib) (6.1.1)\n",
      "Requirement already satisfied: zipp>=3.1.0 in c:\\users\\admin\\appdata\\local\\programs\\python\\python39\\lib\\site-packages (from importlib-resources>=3.2.0->matplotlib) (3.17.0)\n",
      "Requirement already satisfied: six>=1.5 in c:\\users\\admin\\appdata\\local\\programs\\python\\python39\\lib\\site-packages (from python-dateutil>=2.7->matplotlib) (1.16.0)\n",
      "Note: you may need to restart the kernel to use updated packages.\n"
     ]
    },
    {
     "name": "stderr",
     "output_type": "stream",
     "text": [
      "\n",
      "[notice] A new release of pip is available: 23.3.2 -> 24.0\n",
      "[notice] To update, run: python.exe -m pip install --upgrade pip\n"
     ]
    },
    {
     "name": "stdout",
     "output_type": "stream",
     "text": [
      "Requirement already satisfied: seaborn in c:\\users\\admin\\appdata\\local\\programs\\python\\python39\\lib\\site-packages (0.13.2)\n",
      "Requirement already satisfied: numpy!=1.24.0,>=1.20 in c:\\users\\admin\\appdata\\local\\programs\\python\\python39\\lib\\site-packages (from seaborn) (1.26.3)\n",
      "Requirement already satisfied: pandas>=1.2 in c:\\users\\admin\\appdata\\local\\programs\\python\\python39\\lib\\site-packages (from seaborn) (2.2.0)\n",
      "Requirement already satisfied: matplotlib!=3.6.1,>=3.4 in c:\\users\\admin\\appdata\\local\\programs\\python\\python39\\lib\\site-packages (from seaborn) (3.8.2)\n",
      "Requirement already satisfied: contourpy>=1.0.1 in c:\\users\\admin\\appdata\\local\\programs\\python\\python39\\lib\\site-packages (from matplotlib!=3.6.1,>=3.4->seaborn) (1.2.0)\n",
      "Requirement already satisfied: cycler>=0.10 in c:\\users\\admin\\appdata\\local\\programs\\python\\python39\\lib\\site-packages (from matplotlib!=3.6.1,>=3.4->seaborn) (0.12.1)\n",
      "Requirement already satisfied: fonttools>=4.22.0 in c:\\users\\admin\\appdata\\local\\programs\\python\\python39\\lib\\site-packages (from matplotlib!=3.6.1,>=3.4->seaborn) (4.47.2)\n",
      "Requirement already satisfied: kiwisolver>=1.3.1 in c:\\users\\admin\\appdata\\local\\programs\\python\\python39\\lib\\site-packages (from matplotlib!=3.6.1,>=3.4->seaborn) (1.4.5)\n",
      "Requirement already satisfied: packaging>=20.0 in c:\\users\\admin\\appdata\\local\\programs\\python\\python39\\lib\\site-packages (from matplotlib!=3.6.1,>=3.4->seaborn) (23.2)\n",
      "Requirement already satisfied: pillow>=8 in c:\\users\\admin\\appdata\\local\\programs\\python\\python39\\lib\\site-packages (from matplotlib!=3.6.1,>=3.4->seaborn) (10.2.0)\n",
      "Requirement already satisfied: pyparsing>=2.3.1 in c:\\users\\admin\\appdata\\local\\programs\\python\\python39\\lib\\site-packages (from matplotlib!=3.6.1,>=3.4->seaborn) (3.1.1)\n",
      "Requirement already satisfied: python-dateutil>=2.7 in c:\\users\\admin\\appdata\\local\\programs\\python\\python39\\lib\\site-packages (from matplotlib!=3.6.1,>=3.4->seaborn) (2.8.2)\n",
      "Requirement already satisfied: importlib-resources>=3.2.0 in c:\\users\\admin\\appdata\\local\\programs\\python\\python39\\lib\\site-packages (from matplotlib!=3.6.1,>=3.4->seaborn) (6.1.1)\n",
      "Requirement already satisfied: pytz>=2020.1 in c:\\users\\admin\\appdata\\local\\programs\\python\\python39\\lib\\site-packages (from pandas>=1.2->seaborn) (2023.4)\n",
      "Requirement already satisfied: tzdata>=2022.7 in c:\\users\\admin\\appdata\\local\\programs\\python\\python39\\lib\\site-packages (from pandas>=1.2->seaborn) (2023.4)\n",
      "Requirement already satisfied: zipp>=3.1.0 in c:\\users\\admin\\appdata\\local\\programs\\python\\python39\\lib\\site-packages (from importlib-resources>=3.2.0->matplotlib!=3.6.1,>=3.4->seaborn) (3.17.0)\n",
      "Requirement already satisfied: six>=1.5 in c:\\users\\admin\\appdata\\local\\programs\\python\\python39\\lib\\site-packages (from python-dateutil>=2.7->matplotlib!=3.6.1,>=3.4->seaborn) (1.16.0)\n",
      "Note: you may need to restart the kernel to use updated packages.\n"
     ]
    },
    {
     "name": "stderr",
     "output_type": "stream",
     "text": [
      "\n",
      "[notice] A new release of pip is available: 23.3.2 -> 24.0\n",
      "[notice] To update, run: python.exe -m pip install --upgrade pip\n"
     ]
    }
   ],
   "source": [
    "%pip install pandas\n",
    "%pip install numpy\n",
    "%pip install matplotlib\n",
    "%pip install seaborn\n"
   ]
  },
  {
   "cell_type": "code",
   "execution_count": 6,
   "metadata": {},
   "outputs": [
    {
     "name": "stderr",
     "output_type": "stream",
     "text": [
      "C:\\Users\\Admin\\AppData\\Local\\Temp\\ipykernel_70664\\555797462.py:1: DeprecationWarning: \n",
      "Pyarrow will become a required dependency of pandas in the next major release of pandas (pandas 3.0),\n",
      "(to allow more performant data types, such as the Arrow string type, and better interoperability with other libraries)\n",
      "but was not found to be installed on your system.\n",
      "If this would cause problems for you,\n",
      "please provide us feedback at https://github.com/pandas-dev/pandas/issues/54466\n",
      "        \n",
      "  import pandas as pd\n"
     ]
    }
   ],
   "source": [
    "import pandas as pd\n",
    "import numpy as np\n",
    "import matplotlib.pyplot as plt\n",
    "import seaborn as sns"
   ]
  },
  {
   "cell_type": "code",
   "execution_count": 7,
   "metadata": {},
   "outputs": [],
   "source": [
    "def get_dummies(DATAFRAME,COLUMN):\n",
    "    \"\"\"replaces column with binary columns of all values in the column\"\"\"\n",
    "    filler_df= pd.get_dummies(DATAFRAME[COLUMN])\n",
    "    \n",
    "    columns = list(filler_df.columns)\n",
    "    \n",
    "    for _ in columns:\n",
    "    \n",
    "        j = 0\n",
    "        \n",
    "        DATAFRAME.insert((DATAFRAME.columns.get_loc(COLUMN))+j,_,filler_df[_])\n",
    "    \n",
    "        j=+1\n",
    "    \n",
    "    DATAFRAME = DATAFRAME.drop(COLUMN, axis = 'columns')\n",
    "    \n",
    "    return DATAFRAME"
   ]
  },
  {
   "cell_type": "code",
   "execution_count": 102,
   "metadata": {},
   "outputs": [],
   "source": [
    "def int_transform(DATAFRAME,COLUMN):\n",
    "    \"\"\"Removes everything but the int\"\"\"\n",
    "\n",
    "    DATAFRAME[COLUMN] = [x.lower() for x in DATAFRAME[COLUMN]]\n",
    "\n",
    "    alphabet = ['a','b','c','d','e','f','g','h','i','j','k','l','m','n','o','p','q','r','s','t','u','v','w','x','y','z',' ','$',',']\n",
    "        \n",
    "    i = 0\n",
    "        \n",
    "    while i < len(alphabet):\n",
    "        DATAFRAME[COLUMN] = np.where(DATAFRAME[COLUMN].str.contains(alphabet[i]), DATAFRAME[COLUMN].str.replace(alphabet[i],''), DATAFRAME[COLUMN])\n",
    "            \n",
    "        i += 1\n",
    "\n",
    "    DATAFRAME[COLUMN] = [int(x) for x in DATAFRAME[COLUMN]]\n",
    "    \n",
    "    return DATAFRAME"
   ]
  },
  {
   "cell_type": "code",
   "execution_count": 96,
   "metadata": {},
   "outputs": [
    {
     "name": "stdout",
     "output_type": "stream",
     "text": [
      "Time elapsed: 0.0 seconds\n"
     ]
    }
   ],
   "source": [
    "#Timer code\n",
    "import time\n",
    "\n",
    "start_time = time.time()\n",
    "\n",
    "#function/code\n",
    "\n",
    "\n",
    "end_time = time.time()\n",
    "elapsed_time = end_time - start_time\n",
    "print(f'Time elapsed: {elapsed_time} seconds')"
   ]
  },
  {
   "cell_type": "code",
   "execution_count": 101,
   "metadata": {},
   "outputs": [],
   "source": [
    "def sort_column_into_bins(DATAFRAME,COLUMN):\n",
    "    \"\"\"Tailor the lists into the categories you want\"\"\"\n",
    "\n",
    "    list1 = []# fill each with the values that you want \n",
    "    list2 = []\n",
    "    list3 = []\n",
    "    list4 = []\n",
    "    list5 = []\n",
    "    #Ect...\n",
    "\n",
    "    lambda_func = lambda x: ('list1' if x in list1 else \n",
    "                                ('list2' if x in list2 else ('list3' if x  in list3 else ('list4' if x in list4\n",
    "                                                                                                            else 'list5' if x in list5\n",
    "                                                                                                            else 'PROBLEM VALUE'))))\n",
    "    \n",
    "    DATAFRAME[COLUMN] = DATAFRAME[COLUMN].apply(lambda_func)\n",
    "\n",
    "    return DATAFRAME[COLUMN]"
   ]
  },
  {
   "cell_type": "code",
   "execution_count": 111,
   "metadata": {},
   "outputs": [],
   "source": [
    "def hist_code():\n",
    "    \"\"\"This function requires a lot of editing, just set the example text to the column name, and edit the amount of bins for the amount of columns\"\"\"\n",
    "\n",
    "    values_bin1 = []\n",
    "    values_bin2 = []\n",
    "    values_bin3 = []\n",
    "    values_bin4 = []\n",
    "    values_bin5 = []\n",
    "\n",
    "    i = 0\n",
    "    while i < 10: #set to the value you want for that bin\n",
    "        values_bin1.append('Example1') #set the text to the column name\n",
    "        i+=1\n",
    "\n",
    "    j = 0\n",
    "    while j < 11: \n",
    "        values_bin2.append('Example2')\n",
    "        j+=1\n",
    "\n",
    "        k = 0\n",
    "    while k < 12: \n",
    "        values_bin3.append('Example3')\n",
    "        k+=1\n",
    "\n",
    "    p = 0\n",
    "    while p < 13: \n",
    "        values_bin4.append('Example4')\n",
    "        p+=1\n",
    "\n",
    "    l = 0\n",
    "    while l < 14: \n",
    "        values_bin5.append('Example5')\n",
    "        l+=1\n",
    "\n",
    "    hist_list = [values_bin1 + values_bin2 + values_bin3 + values_bin4 + values_bin5]\n",
    "\n",
    "    return plt.hist(hist_list)\n"
   ]
  },
  {
   "cell_type": "code",
   "execution_count": null,
   "metadata": {},
   "outputs": [],
   "source": [
    "def bar_basic(DF,title = 'title',y_label = 'y_label',x_label = 'x_label'):\n",
    "    #pd.DataFrame().T   filps the x & y\n",
    "    #pd.DataFrame.columns = [column_names]\n",
    "\n",
    "    labels = DF.columns\n",
    "\n",
    "    height = []\n",
    "    for i in DF:\n",
    "        height.append(np.mean(DF[i]))\n",
    "\n",
    "    std = []\n",
    "    for i in DF:\n",
    "        std.append(np.std(DF[i]))\n",
    "    \n",
    "    bar_graph = plt.bar(labels,height, color = 'none', edgecolor = 'black', width = .8)\n",
    "    plt.errorbar(labels,height,yerr = std, color = 'black', fmt = 'none', capsize = 5)\n",
    "    plt.title(title)\n",
    "    plt.xlabel(x_label)\n",
    "    plt.ylabel(y_label)\n",
    "\n",
    "    return(bar_graph)"
   ]
  },
  {
   "cell_type": "code",
   "execution_count": 3,
   "metadata": {},
   "outputs": [],
   "source": [
    "from sklearn.neighbors import KNeighborsClassifier\n",
    "from sklearn.model_selection import train_test_split\n",
    "\n",
    "\n",
    "def neighbors_finder(DATAFRAME,PREDICTION):\n",
    "    \"\"\"This finds the optimal number of neighbors, you do have to sort throught the list yourself, but that is fine\"\"\"\n",
    "    X = DATAFRAME.drop(PREDICTION,axis=1)\n",
    "    y = DATAFRAME[PREDICTION]\n",
    "\n",
    "    X_train,X_test,y_train,y_test = train_test_split(X,\n",
    "                                                     y,\n",
    "                                                     test_size = 0.25,\n",
    "                                                     random_state=15)\n",
    "    neighbors = []\n",
    "    k = 1\n",
    "    while k < 17:\n",
    "        knn = KNeighborsClassifier(n_neighbors=k)\n",
    "        knn.fit(X_train,y_train)\n",
    "        pred = knn.predict(X_test)\n",
    "        neighbors.append(knn.score(X_test,y_test))\n",
    "        k+=2\n",
    "\n",
    "    return neighbors"
   ]
  },
  {
   "cell_type": "code",
   "execution_count": 8,
   "metadata": {},
   "outputs": [],
   "source": [
    "from sklearn.linear_model import LogisticRegression\n",
    "from sklearn.preprocessing import StandardScaler\n",
    "from sklearn.metrics import confusion_matrix\n",
    "from sklearn.metrics import ConfusionMatrixDisplay\n",
    "\n",
    "def logisticregression(DATAFRAME,COLUMN):\n",
    "    \"\"\"Just a basic logistic regresison model code\"\"\"\n",
    "\n",
    "    y = DATAFRAME[COLUMN]\n",
    "    X = DATAFRAME.drop(COLUMN,axis=1)\n",
    "\n",
    "\n",
    "\n",
    "\n",
    "    X_train,X_test,y_train,y_test = train_test_split(X,\n",
    "                                                    y,\n",
    "                                                    train_size=0.25,\n",
    "                                                    random_state=15)\n",
    "\n",
    "    #This just standardizes the data\n",
    "\n",
    "    #sc = StandardScaler() \n",
    "    #X_train = sc.fit_transform(X_train) \n",
    "    #X_test = sc.fit_transform(X_test)\n",
    "\n",
    "    LogRegression = LogisticRegression(random_state=16).fit(X_train,y_train)\n",
    "\n",
    "    return ConfusionMatrixDisplay.from_estimator(LogRegression,X_test,y_test)"
   ]
  },
  {
   "cell_type": "code",
   "execution_count": 1,
   "metadata": {},
   "outputs": [],
   "source": [
    "from sklearn.svm import SVC\n",
    "from sklearn.preprocessing import StandardScaler\n",
    "\n",
    "def SVC_ML(DATAFRAME,COLUMN) -> int:\n",
    "    \"\"\"Very basic SVC model plus scaling\"\"\"\n",
    "\n",
    "    classifier = SVC(kernel='linear')\n",
    "\n",
    "    x = DATAFRAME.drop(COLUMN,axis=1)\n",
    "    y=DATAFRAME[COLUMN]\n",
    "    x_train,x_test,y_train,y_test = train_test_split(x,y,test_size=.25,random_state=14)\n",
    "\n",
    "    x_train = sc.fit_transform(x_train)\n",
    "    x_test = sc.fit_transform(x_test)\n",
    "\n",
    "    classifier.fit(x_train,y_train)\n",
    "    accuracy = classifier.score(x_test,y_test)\n",
    "\n",
    "    return(accuracy)"
   ]
  },
  {
   "cell_type": "code",
   "execution_count": 1,
   "metadata": {},
   "outputs": [
    {
     "ename": "NameError",
     "evalue": "name 'pd' is not defined",
     "output_type": "error",
     "traceback": [
      "\u001b[1;31m---------------------------------------------------------------------------\u001b[0m",
      "\u001b[1;31mNameError\u001b[0m                                 Traceback (most recent call last)",
      "Cell \u001b[1;32mIn[1], line 1\u001b[0m\n\u001b[1;32m----> 1\u001b[0m \u001b[38;5;28;01mdef\u001b[39;00m \u001b[38;5;21mcategorical_into_ordinal\u001b[39m (DATAFRAME: \u001b[43mpd\u001b[49m\u001b[38;5;241m.\u001b[39mDataFrame,COLUMN: \u001b[38;5;28mstr\u001b[39m,OUTCOME:\u001b[38;5;28mstr\u001b[39m) \u001b[38;5;241m-\u001b[39m\u001b[38;5;241m>\u001b[39m pd\u001b[38;5;241m.\u001b[39mDataFrame:\n\u001b[0;32m      2\u001b[0m \u001b[38;5;250m    \u001b[39m\u001b[38;5;124;03m\"\"\"Takes 3 arguments, the first is the dataframe you want to modify, \u001b[39;00m\n\u001b[0;32m      3\u001b[0m \u001b[38;5;124;03m    second is the CATEGORICAL column that you would like turned into ordinal categories based on how they correlated to outcome,\u001b[39;00m\n\u001b[0;32m      4\u001b[0m \u001b[38;5;124;03m    third is the outcome column, ONLY BINARY.\"\"\"\u001b[39;00m\n\u001b[0;32m      6\u001b[0m     no_na \u001b[38;5;241m=\u001b[39m DATAFRAME\u001b[38;5;241m.\u001b[39mdropna()\n",
      "\u001b[1;31mNameError\u001b[0m: name 'pd' is not defined"
     ]
    }
   ],
   "source": [
    "def categorical_into_ordinal (DATAFRAME: pd.DataFrame,COLUMN: str,OUTCOME:str) -> pd.DataFrame:\n",
    "    \"\"\"Takes 3 arguments, the first is the dataframe you want to modify, \n",
    "    second is the CATEGORICAL column that you would like turned into ordinal categories based on how they correlated to outcome,\n",
    "    third is the outcome column, ONLY BINARY.\"\"\"\n",
    "\n",
    "    no_na = DATAFRAME.dropna()\n",
    "    #no na\n",
    "\n",
    "    grouped = no_na.groupby([COLUMN,OUTCOME]).size().to_list()\n",
    "    #grouping the column of interest by the outcome\n",
    "\n",
    "    row_names = []\n",
    "    for i in no_na[COLUMN]:\n",
    "        if i not in row_names:\n",
    "            row_names.append(i)\n",
    "\n",
    "    row_names = sorted(row_names)\n",
    "    #row names sorted\n",
    "\n",
    "    int = 0\n",
    "    negatives = 0\n",
    "    positives = 1\n",
    "    row_values = []\n",
    "\n",
    "    while int < len(grouped):\n",
    "        if int % 2 == 0:\n",
    "            negatives = grouped[int]\n",
    "            int+=1\n",
    "        else:\n",
    "            positives = grouped[int]\n",
    "            \n",
    "            row_values.append(positives/(positives+negatives))\n",
    "\n",
    "            int+=1\n",
    "    # the correlation of each row/category to the outcome\n",
    "    q = 0\n",
    "\n",
    "    value_replacer = lambda x: row_values[q] if x == row_names[q] else x\n",
    "\n",
    "    while q < len(row_values):\n",
    "        DATAFRAME[COLUMN] = DATAFRAME[COLUMN].apply(value_replacer)\n",
    "        q+=1\n",
    "    #replacing the values\n",
    "\n",
    "    return(DATAFRAME[COLUMN])"
   ]
  },
  {
   "cell_type": "code",
   "execution_count": null,
   "metadata": {},
   "outputs": [],
   "source": []
  }
 ],
 "metadata": {
  "kernelspec": {
   "display_name": "Python 3",
   "language": "python",
   "name": "python3"
  },
  "language_info": {
   "codemirror_mode": {
    "name": "ipython",
    "version": 3
   },
   "file_extension": ".py",
   "mimetype": "text/x-python",
   "name": "python",
   "nbconvert_exporter": "python",
   "pygments_lexer": "ipython3",
   "version": "3.9.1rc1"
  }
 },
 "nbformat": 4,
 "nbformat_minor": 2
}
