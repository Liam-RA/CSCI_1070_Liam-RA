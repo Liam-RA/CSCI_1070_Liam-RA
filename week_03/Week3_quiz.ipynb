{
 "cells": [
  {
   "cell_type": "code",
   "execution_count": 11,
   "id": "8d4c98de-d999-40c3-9902-dcac15589dde",
   "metadata": {},
   "outputs": [],
   "source": [
    "#belize_airbnb_listings.csv just didn't work, dont know why\n",
    "#ill just find average, total/sum, max of: mpg, horsepower, & displacement. respectively. and I'll group by Origin\n",
    "\n",
    "import pandas as pd\n",
    "import numpy as np\n",
    "\n",
    "csv_df=pd.read_csv('cars.csv',delimiter=';')"
   ]
  },
  {
   "cell_type": "code",
   "execution_count": 8,
   "id": "d2f0fdfa-5fda-446f-ae66-755ca9782a64",
   "metadata": {},
   "outputs": [
    {
     "data": {
      "text/plain": [
       "<pandas.core.groupby.generic.DataFrameGroupBy object at 0x0000025D0A1D2310>"
      ]
     },
     "execution_count": 8,
     "metadata": {},
     "output_type": "execute_result"
    }
   ],
   "source": [
    "csv_grouped = csv_df.groupby('Origin')\n",
    "csv_grouped"
   ]
  },
  {
   "cell_type": "code",
   "execution_count": 10,
   "id": "fe1e6507-c0d8-438e-8056-f2a12e4f7e06",
   "metadata": {},
   "outputs": [
    {
     "data": {
      "text/html": [
       "<div>\n",
       "<style scoped>\n",
       "    .dataframe tbody tr th:only-of-type {\n",
       "        vertical-align: middle;\n",
       "    }\n",
       "\n",
       "    .dataframe tbody tr th {\n",
       "        vertical-align: top;\n",
       "    }\n",
       "\n",
       "    .dataframe thead th {\n",
       "        text-align: right;\n",
       "    }\n",
       "</style>\n",
       "<table border=\"1\" class=\"dataframe\">\n",
       "  <thead>\n",
       "    <tr style=\"text-align: right;\">\n",
       "      <th>Origin</th>\n",
       "      <th>Europe</th>\n",
       "      <th>Japan</th>\n",
       "      <th>US</th>\n",
       "    </tr>\n",
       "  </thead>\n",
       "  <tbody>\n",
       "    <tr>\n",
       "      <th>MPG</th>\n",
       "      <td>26.0</td>\n",
       "      <td>31.6</td>\n",
       "      <td>18.35</td>\n",
       "    </tr>\n",
       "    <tr>\n",
       "      <th>Horsepower</th>\n",
       "      <td>5751.0</td>\n",
       "      <td>6307.0</td>\n",
       "      <td>29975.00</td>\n",
       "    </tr>\n",
       "    <tr>\n",
       "      <th>Displacement</th>\n",
       "      <td>183.0</td>\n",
       "      <td>168.0</td>\n",
       "      <td>455.00</td>\n",
       "    </tr>\n",
       "  </tbody>\n",
       "</table>\n",
       "</div>"
      ],
      "text/plain": [
       "Origin        Europe   Japan        US\n",
       "MPG             26.0    31.6     18.35\n",
       "Horsepower    5751.0  6307.0  29975.00\n",
       "Displacement   183.0   168.0    455.00"
      ]
     },
     "execution_count": 10,
     "metadata": {},
     "output_type": "execute_result"
    }
   ],
   "source": [
    "pd.DataFrame([csv_grouped['MPG'].median(),csv_grouped['Horsepower'].sum(),csv_grouped['Displacement'].max()])"
   ]
  },
  {
   "cell_type": "code",
   "execution_count": null,
   "id": "dcb380b1-5212-470c-958f-79857b54ece8",
   "metadata": {},
   "outputs": [],
   "source": []
  },
  {
   "cell_type": "code",
   "execution_count": null,
   "id": "414cffc1-ec48-4cda-ac00-c8abfaaecb8b",
   "metadata": {},
   "outputs": [],
   "source": []
  }
 ],
 "metadata": {
  "kernelspec": {
   "display_name": "Python 3 (ipykernel)",
   "language": "python",
   "name": "python3"
  },
  "language_info": {
   "codemirror_mode": {
    "name": "ipython",
    "version": 3
   },
   "file_extension": ".py",
   "mimetype": "text/x-python",
   "name": "python",
   "nbconvert_exporter": "python",
   "pygments_lexer": "ipython3",
   "version": "3.9.1rc1"
  }
 },
 "nbformat": 4,
 "nbformat_minor": 5
}
