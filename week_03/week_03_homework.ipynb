{
 "cells": [
  {
   "cell_type": "markdown",
   "metadata": {},
   "source": [
    "### Homework 3 Numpy Arrays and Pandas\n",
    "\n",
    "1. Open `cars.csv` in jupyter and look at the data. (Double click `cars.csv` to open in a new tab).\n",
    "2. We are converting each **column** into a numpy array.\n",
    "3. Notice we have text, integer and float data. \n",
    "4. Take care not to overwrite your starter code."
   ]
  },
  {
   "cell_type": "code",
   "execution_count": 13,
   "metadata": {},
   "outputs": [],
   "source": [
    "#Starter code. Do NOT modify this cell\n",
    "import pandas as pd\n",
    "import numpy as np\n",
    "\n",
    "# Read in dataset\n",
    "df = pd.read_csv('cars.csv',delimiter=';')\n",
    "\n",
    "# Convert each column to an np.array\n",
    "car = df.Car.to_numpy()\n",
    "mpg = df.MPG.to_numpy()\n",
    "cylinders = df.Cylinders.to_numpy()\n",
    "displacement = df.Displacement.to_numpy()\n",
    "horsepower = df.Horsepower.to_numpy()\n",
    "weight = df.Weight.to_numpy()\n",
    "acceleration = df.Acceleration.to_numpy()\n",
    "model = df.Model.to_numpy()\n",
    "origin = df.Origin.to_numpy()\n",
    "\n",
    "# create an array of headers\n",
    "headers = np.array(['Car', 'MPG', 'Cylinders', 'Displacement', 'Horsepower', 'Weight','Acceleration', 'Model', 'Origin'])"
   ]
  },
  {
   "cell_type": "markdown",
   "metadata": {},
   "source": [
    "1. (2 pts) What are the numpy datatypes for the `car`,`mpg`, `horsepower` and `origin` arrays? (Hint: Not `type(car)` and use `print()` to print the numpy type.)"
   ]
  },
  {
   "cell_type": "code",
   "execution_count": 10,
   "metadata": {},
   "outputs": [
    {
     "name": "stdout",
     "output_type": "stream",
     "text": [
      "object float64 object object\n"
     ]
    }
   ],
   "source": [
    "print(car.dtype,mpg.dtype,origin.dtype,origin.dtype)"
   ]
  },
  {
   "cell_type": "markdown",
   "metadata": {},
   "source": [
    "2. (1 pt) `numpy` is often imported as `np`. What is this action called? Why might you do this? "
   ]
  },
  {
   "cell_type": "markdown",
   "metadata": {},
   "source": [
    "I am not entirely sure what this action is called, assigning a value or abbreviation or designation. \n",
    "\n",
    "This is done to make it easier to code as you only have to type np instead of numpy. \n",
    "\n",
    "np is a common value to asign numpy to, you can assign numpy to any value/str but np is convention and makes you code easier to read."
   ]
  },
  {
   "cell_type": "markdown",
   "metadata": {},
   "source": [
    "3. (2 pts) Each of the arrays (cars, mpg, cylinders, etc..) has how many dimensions? Show how to find this using code. "
   ]
  },
  {
   "cell_type": "code",
   "execution_count": 127,
   "metadata": {},
   "outputs": [
    {
     "name": "stdout",
     "output_type": "stream",
     "text": [
      "1 1 1 1\n"
     ]
    }
   ],
   "source": [
    "#format with the the key value method from the book\n",
    "\n",
    "print(car.ndim,mpg.ndim,origin.ndim,horsepower.ndim)\n",
    "\n",
    "#same method for all arrays, just '.ndim'"
   ]
  },
  {
   "cell_type": "markdown",
   "metadata": {},
   "source": [
    "4. (3 pts) What is the ___ of `horsepower`?\n",
    "- sum\n",
    "- min\n",
    "- max\n",
    "- median\n",
    "- Optional: mode (May need to google help) (1 pt extra credit)"
   ]
  },
  {
   "cell_type": "code",
   "execution_count": 128,
   "metadata": {},
   "outputs": [
    {
     "name": "stdout",
     "output_type": "stream",
     "text": [
      "42033.0 0.0 103.5295566502463 93.5\n"
     ]
    }
   ],
   "source": [
    "horsepower.sum()\n",
    "horsepower.min()\n",
    "horsepower.max()\n",
    "horsepower.mean()\n",
    "np.median(horsepower)\n",
    "\n",
    "#format this\n",
    "\n",
    "print(horsepower.sum(),horsepower.min(), horsepower.mean(), np.median(horsepower))"
   ]
  },
  {
   "cell_type": "markdown",
   "metadata": {},
   "source": [
    "5. (2 pts) Select the last element in each subarray (do this with one operation.)"
   ]
  },
  {
   "cell_type": "code",
   "execution_count": 21,
   "metadata": {},
   "outputs": [],
   "source": [
    "select_more = np.array([[1,2,3],\n",
    "                      [4,5,6],\n",
    "                      [7,8,9]])\n",
    "# returns array([3, 6, 9])"
   ]
  },
  {
   "cell_type": "code",
   "execution_count": 3,
   "metadata": {},
   "outputs": [
    {
     "name": "stdout",
     "output_type": "stream",
     "text": [
      "[3 6 9]\n"
     ]
    }
   ],
   "source": [
    "select_more = np.array([[1,2,3],\n",
    "                      [4,5,6],\n",
    "                      [7,8,9]])\n",
    "\n",
    "print(select_more[:,-1])"
   ]
  },
  {
   "cell_type": "markdown",
   "metadata": {},
   "source": [
    "6. (2 pts) Use the built-in `np.lookfor()` function to search for `'log'`.\n",
    "\n",
    "Use the function you find and apply it to `mpg`."
   ]
  },
  {
   "cell_type": "code",
   "execution_count": 129,
   "metadata": {},
   "outputs": [
    {
     "name": "stdout",
     "output_type": "stream",
     "text": [
      "Search results for 'log'\n",
      "------------------------\n",
      "numpy.log\n",
      "    Natural logarithm, element-wise.\n",
      "numpy.log2\n",
      "    Base-2 logarithm of `x`.\n",
      "numpy.log10\n",
      "    Return the base 10 logarithm of the input array, element-wise.\n",
      "numpy.log1p\n",
      "    Return the natural logarithm of one plus the input array, element-wise.\n",
      "numpy.logspace\n",
      "    Return numbers spaced evenly on a log scale.\n",
      "numpy.logaddexp\n",
      "    Logarithm of the sum of exponentiations of the inputs.\n",
      "numpy.logaddexp2\n",
      "    Logarithm of the sum of exponentiations of the inputs in base-2.\n",
      "numpy.logical_or\n",
      "    Compute the truth value of x1 OR x2 element-wise.\n",
      "numpy.logical_and\n",
      "    Compute the truth value of x1 AND x2 element-wise.\n",
      "numpy.logical_not\n",
      "    Compute the truth value of NOT x element-wise.\n",
      "numpy.logical_xor\n",
      "    Compute the truth value of x1 XOR x2, element-wise.\n",
      "numpy.ma.log\n",
      "    Natural logarithm, element-wise.\n",
      "numpy.ma.log2\n",
      "    Base-2 logarithm of `x`.\n",
      "numpy.ma.log10\n",
      "    Return the base 10 logarithm of the input array, element-wise.\n",
      "numpy.recarray\n",
      "    Construct an ndarray that allows field access using attributes.\n",
      "numpy.geomspace\n",
      "    Return numbers spaced evenly on a log scale (a geometric progression).\n",
      "numpy.array_api.log\n",
      "    Array API compatible wrapper for :py:func:`np.log <numpy.log>`.\n",
      "numpy.seterrcall\n",
      "    Set the floating-point error callback function or log object.\n",
      "numpy.array_api.log2\n",
      "    Array API compatible wrapper for :py:func:`np.log2 <numpy.log2>`.\n",
      "numpy.array_api.log10\n",
      "    Array API compatible wrapper for :py:func:`np.log10 <numpy.log10>`.\n",
      "numpy.array_api.log1p\n",
      "    Array API compatible wrapper for :py:func:`np.log1p <numpy.log1p>`.\n",
      "numpy.ma.logical_or\n",
      "    Compute the truth value of x1 OR x2 element-wise.\n",
      "numpy.linalg.slogdet\n",
      "    Compute the sign and (natural) logarithm of the determinant of an array.\n",
      "numpy.ma.logical_and\n",
      "    Compute the truth value of x1 AND x2 element-wise.\n",
      "numpy.ma.logical_not\n",
      "    Compute the truth value of NOT x element-wise.\n",
      "numpy.ma.logical_xor\n",
      "    Compute the truth value of x1 XOR x2, element-wise.\n",
      "numpy.array_api.logaddexp\n",
      "    Array API compatible wrapper for :py:func:`np.logaddexp <numpy.logaddexp>`.\n",
      "numpy.ma.mask_or\n",
      "    Combine two masks with the ``logical_or`` operator.\n",
      "numpy.array_api.logical_or\n",
      "    Array API compatible wrapper for :py:func:`np.logical_or <numpy.logical_or>`.\n",
      "numpy.array_api.logical_and\n",
      "    Array API compatible wrapper for :py:func:`np.logical_and <numpy.logical_and>`.\n",
      "numpy.array_api.logical_not\n",
      "    Array API compatible wrapper for :py:func:`np.logical_not <numpy.logical_not>`.\n",
      "numpy.array_api.logical_xor\n",
      "    Array API compatible wrapper for :py:func:`np.logical_xor <numpy.logical_xor>`.\n",
      "numpy.distutils.log.good\n",
      "    If we log WARN messages, log this message as a 'nice' anti-warn\n",
      "numpy.array_api.linalg.slogdet\n",
      "    Array API compatible wrapper for :py:func:`np.linalg.slogdet <numpy.linalg.slogdet>`.\n",
      "numpy.random.Generator.logistic\n",
      "    Draw samples from a logistic distribution.\n",
      "numpy.random.Generator.lognormal\n",
      "    Draw samples from a log-normal distribution.\n",
      "numpy.random.Generator.logseries\n",
      "    Draw samples from a logarithmic series distribution.\n",
      "numpy.distutils.log.Log.good\n",
      "    If we log WARN messages, log this message as a 'nice' anti-warn\n",
      "numpy.linalg._umath_linalg.slogdet\n",
      "    slogdet on the last two dimensions and broadcast on the rest.\n",
      "numpy.random.RandomState.logistic\n",
      "    Draw samples from a logistic distribution.\n",
      "numpy.random.RandomState.lognormal\n",
      "    Draw samples from a log-normal distribution.\n",
      "numpy.random.RandomState.logseries\n",
      "    Draw samples from a logarithmic series distribution.\n",
      "numpy.all\n",
      "    Test whether all array elements along a given axis evaluate to True.\n",
      "numpy.any\n",
      "    Test whether any array element along a given axis evaluates to True.\n",
      "numpy.exp\n",
      "    Calculate the exponential of all elements in the input array.\n",
      "numpy.in1d\n",
      "    Test whether each element of a 1-D array is also present in a second array.\n",
      "numpy.isin\n",
      "    Calculates ``element in test_elements``, broadcasting over `element` only.\n",
      "numpy.sort\n",
      "    Return a sorted copy of an array.\n",
      "numpy.expm1\n",
      "    Calculate ``exp(x) - 1`` for all elements in the array.\n",
      "numpy.isnan\n",
      "    Test element-wise for NaN and return result as a boolean array.\n",
      "numpy.geterr\n",
      "    Get the current way of handling floating-point errors.\n",
      "numpy.kaiser\n",
      "    Return the Kaiser window.\n",
      "numpy.seterr\n",
      "    Set how floating-point errors are handled.\n",
      "numpy.testing.suppress_warnings.record\n",
      "    Append a new recording filter or apply it if the state is entered.\n",
      "numpy.distutils.command.build.build\n",
      "    Abstract base class for defining command classes, the \"worker bees\"\n",
      "numpy.hamming\n",
      "    Return the Hamming window.\n",
      "numpy.hanning\n",
      "    Return the Hanning window.\n",
      "numpy.distutils.command.sdist.sdist\n",
      "    Abstract base class for defining command classes, the \"worker bees\"\n",
      "numpy.bartlett\n",
      "    Return the Bartlett window.\n",
      "numpy.blackman\n",
      "    Return the Blackman window.\n",
      "numpy.errstate\n",
      "    errstate(**kwargs)\n",
      "numpy.isfinite\n",
      "    Test element-wise for finiteness (not infinity and not Not a Number).\n",
      "numpy.linspace\n",
      "    Return evenly spaced numbers over a specified interval.\n",
      "numpy.packbits\n",
      "    Packs the elements of a binary-valued array into bits in a uint8 array.\n",
      "numpy.distutils.command.config.config\n",
      "    Abstract base class for defining command classes, the \"worker bees\"\n",
      "numpy.geterrobj\n",
      "    geterrobj()\n",
      "numpy.seterrobj\n",
      "    Set the object that defines floating-point error handling.\n",
      "numpy.bitwise_or\n",
      "    Compute the bit-wise OR of two arrays element-wise.\n",
      "numpy.geterrcall\n",
      "    Return the current callback function used on floating-point errors.\n",
      "numpy.bitwise_and\n",
      "    Compute the bit-wise AND of two arrays element-wise.\n",
      "numpy.bitwise_not\n",
      "    Compute bit-wise inversion, or bit-wise NOT, element-wise.\n",
      "numpy.bitwise_xor\n",
      "    Compute the bit-wise XOR of two arrays element-wise.\n",
      "numpy.distutils.command.install.install\n",
      "    Abstract base class for defining command classes, the \"worker bees\"\n",
      "numpy.histogram2d\n",
      "    Compute the bi-dimensional histogram of two data samples.\n",
      "numpy.ma.exp\n",
      "    Calculate the exponential of all elements in the input array.\n",
      "numpy.distutils.command.build_py.build_py\n",
      "    Abstract base class for defining command classes, the \"worker bees\"\n",
      "numpy.distutils.command.egg_info.egg_info\n",
      "    Abstract base class for defining command classes, the \"worker bees\"\n",
      "numpy.fft.fft2\n",
      "    Compute the 2-dimensional discrete Fourier Transform.\n",
      "numpy.fft.fftn\n",
      "    Compute the N-dimensional discrete Fourier Transform.\n",
      "numpy.fft.hfft\n",
      "    Compute the FFT of a signal that has Hermitian symmetry, i.e., a real\n",
      "numpy.fft.ifft2\n",
      "    Compute the 2-dimensional inverse discrete Fourier Transform.\n",
      "numpy.fft.ifftn\n",
      "    Compute the N-dimensional inverse discrete Fourier Transform.\n",
      "numpy.fft.ihfft\n",
      "    Compute the inverse FFT of a signal that has Hermitian symmetry.\n",
      "numpy.distutils.command.bdist_rpm.bdist_rpm\n",
      "    Abstract base class for defining command classes, the \"worker bees\"\n",
      "numpy.distutils.command.build_ext.build_ext\n",
      "    Abstract base class for defining command classes, the \"worker bees\"\n",
      "numpy.distutils.command.build_src.build_src\n",
      "    Abstract base class for defining command classes, the \"worker bees\"\n",
      "numpy.linalg.det\n",
      "    Compute the determinant of an array.\n",
      "numpy.matrix.any\n",
      "    Test whether any array element along a given axis evaluates to True.\n",
      "numpy.distutils.command.build_clib.build_clib\n",
      "    Abstract base class for defining command classes, the \"worker bees\"\n",
      "numpy.byte.bit_count\n",
      "    int8.bit_count() -> int\n",
      "numpy.ma.bitwise_or\n",
      "    Compute the bit-wise OR of two arrays element-wise.\n",
      "numpy.histogram_bin_edges\n",
      "    Function to calculate only the edges of the bins used by the `histogram`\n",
      "numpy.ma.bitwise_and\n",
      "    Compute the bit-wise AND of two arrays element-wise.\n",
      "numpy.ma.bitwise_xor\n",
      "    Compute the bit-wise XOR of two arrays element-wise.\n",
      "numpy.int16.bit_count\n",
      "    int16.bit_count() -> int\n",
      "numpy.int32.bit_count\n",
      "    int32.bit_count() -> int\n",
      "numpy.int64.bit_count\n",
      "    int64.bit_count() -> int\n",
      "numpy.distutils.command.install_clib.install_clib\n",
      "    Abstract base class for defining command classes, the \"worker bees\"\n",
      "numpy.distutils.command.install_data.install_data\n",
      "    Abstract base class for defining command classes, the \"worker bees\"\n",
      "numpy.uint.bit_count\n",
      "    uint32.bit_count() -> int\n",
      "numpy.ubyte.bit_count\n",
      "    uint8.bit_count() -> int\n",
      "numpy.distutils.command.build_scripts.build_scripts\n",
      "    Abstract base class for defining command classes, the \"worker bees\"\n",
      "numpy.uint16.bit_count\n",
      "    uint16.bit_count() -> int\n",
      "numpy.distutils.ccompiler_opt.CCompilerOpt._dist_str\n",
      "    Return a string to print by log and errors.\n",
      "numpy.uint64.bit_count\n",
      "    uint64.bit_count() -> int\n",
      "numpy.random.RandomState\n",
      "    Container for the slow Mersenne Twister pseudo-random number generator.\n",
      "numpy.random.SeedSequence\n",
      "    SeedSequence mixes sources of entropy in a reproducible way to set the\n",
      "numpy.distutils.command.install_headers.install_headers\n",
      "    Abstract base class for defining command classes, the \"worker bees\"\n",
      "numpy.distutils.armccompiler.ArmCCompiler.add_link_object\n",
      "    Add 'object' to the list of object files (or analogues, such as\n",
      "numpy.distutils.command.egg_info.egg_info.write_file\n",
      "    Write `data` to `filename` (if not a dry run) after announcing it\n",
      "numpy.distutils.armccompiler.ArmCCompiler.set_link_objects\n",
      "    Set the list of object files (or analogues) to be included in\n",
      "numpy.distutils.command.bdist_rpm.bdist_rpm._format_changelog\n",
      "    Format the changelog correctly and convert it to a list of strings\n",
      "numpy.testing.suppress_warnings\n",
      "    Context manager and decorator doing much the same as\n",
      "numpy.random.Generator.wald\n",
      "    Draw samples from a Wald, or inverse Gaussian, distribution.\n",
      "numpy.random.Generator.zipf\n",
      "    Draw samples from a Zipf distribution.\n",
      "numpy.random.Generator.power\n",
      "    Draws samples in [0, 1] from a power distribution with positive\n",
      "numpy.random.Generator.gumbel\n",
      "    Draw samples from a Gumbel distribution.\n",
      "numpy.random.RandomState.wald\n",
      "    Draw samples from a Wald, or inverse Gaussian, distribution.\n",
      "numpy.random.RandomState.zipf\n",
      "    Draw samples from a Zipf distribution.\n",
      "numpy.random.RandomState.power\n",
      "    Draws samples in [0, 1] from a power distribution with positive\n",
      "numpy.random.Generator.vonmises\n",
      "    Draw samples from a von Mises distribution.\n",
      "numpy.random.RandomState.gumbel\n",
      "    Draw samples from a Gumbel distribution.\n",
      "numpy.random.RandomState.vonmises\n",
      "    Draw samples from a von Mises distribution.\n",
      "numpy.distutils.numpy_distribution.NumpyDistribution.finalize_options\n",
      "    Set final values for all the options on the Distribution\n",
      "numpy.random.Generator.exponential\n",
      "    Draw samples from an exponential distribution.\n",
      "numpy.random.RandomState.exponential\n",
      "    Draw samples from an exponential distribution.\n",
      "numpy.distutils.ccompiler.CCompiler_spawn\n",
      "    Execute a command in a sub-process.\n",
      "numpy.random.Generator.multivariate_normal\n",
      "    multivariate_normal(mean, cov, size=None, check_valid='warn',\n",
      "numpy.distutils.tests.test_ccompiler_opt_conf.TestConfFeatures.assertLogs\n",
      "    Fail unless a log message of level *level* or higher is emitted\n",
      "numpy.random.RandomState.multivariate_normal\n",
      "    Draw random samples from a multivariate normal distribution.\n",
      "numpy.distutils.ccompiler.CCompiler_show_customization\n",
      "    Print the compiler customizations to stdout."
     ]
    }
   ],
   "source": [
    "np.lookfor('log')"
   ]
  },
  {
   "cell_type": "code",
   "execution_count": 130,
   "metadata": {},
   "outputs": [
    {
     "name": "stderr",
     "output_type": "stream",
     "text": [
      "C:\\Users\\Admin\\AppData\\Local\\Temp\\ipykernel_13864\\67066281.py:1: RuntimeWarning: divide by zero encountered in log\n",
      "  np.log(mpg)\n"
     ]
    },
    {
     "data": {
      "text/plain": [
       "array([2.89037176, 2.7080502 , 2.89037176, 2.77258872, 2.83321334,\n",
       "       2.7080502 , 2.63905733, 2.63905733, 2.63905733, 2.7080502 ,\n",
       "             -inf,       -inf,       -inf,       -inf,       -inf,\n",
       "       2.7080502 , 2.63905733,       -inf, 2.7080502 , 2.63905733,\n",
       "       3.17805383, 3.09104245, 2.89037176, 3.04452244, 3.29583687,\n",
       "       3.25809654, 3.21887582, 3.17805383, 3.21887582, 3.25809654,\n",
       "       3.04452244, 2.30258509, 2.30258509, 2.39789527, 2.19722458,\n",
       "       3.29583687, 3.33220451, 3.21887582, 3.21887582,       -inf,\n",
       "       2.94443898, 2.77258872, 2.83321334, 2.94443898, 2.89037176,\n",
       "       2.63905733, 2.63905733, 2.63905733, 2.63905733, 2.48490665,\n",
       "       2.56494936, 2.56494936, 2.89037176, 3.09104245, 2.94443898,\n",
       "       2.89037176, 3.13549422, 3.33220451, 3.40119738, 3.40119738,\n",
       "       3.4339872 , 3.55534806, 3.29583687, 3.25809654, 3.17805383,\n",
       "       3.21887582, 3.13549422, 2.99573227, 3.04452244, 2.56494936,\n",
       "       2.63905733, 2.7080502 , 2.63905733, 2.83321334, 2.39789527,\n",
       "       2.56494936, 2.48490665, 2.56494936, 2.94443898, 2.7080502 ,\n",
       "       2.56494936, 2.56494936, 2.63905733, 2.89037176, 3.09104245,\n",
       "       3.04452244, 3.25809654, 3.09104245, 3.33220451, 3.13549422,\n",
       "       3.33220451, 3.29583687, 2.56494936, 2.63905733, 2.56494936,\n",
       "       2.63905733, 2.7080502 , 2.48490665, 2.56494936, 2.56494936,\n",
       "       2.63905733, 2.56494936, 2.48490665, 2.56494936, 2.89037176,\n",
       "       2.77258872, 2.89037176, 2.89037176, 3.13549422, 3.25809654,\n",
       "       2.39789527, 2.48490665, 2.56494936, 2.48490665, 2.89037176,\n",
       "       2.99573227, 3.04452244, 3.09104245, 2.89037176, 2.94443898,\n",
       "       3.04452244, 3.25809654, 2.7080502 , 2.77258872, 3.36729583,\n",
       "       3.17805383, 2.99573227, 2.94443898, 2.7080502 , 3.17805383,\n",
       "       2.99573227, 2.39789527, 2.99573227, 3.04452244, 2.94443898,\n",
       "       2.7080502 , 3.4339872 , 3.25809654, 3.4657359 , 3.21887582,\n",
       "       2.77258872, 2.77258872, 2.89037176, 2.77258872, 2.56494936,\n",
       "       2.63905733, 2.63905733, 2.63905733, 3.36729583, 3.25809654,\n",
       "       3.25809654, 3.4339872 , 3.4657359 , 3.33220451, 3.17805383,\n",
       "       3.25809654, 3.17805383, 3.25809654, 3.4339872 , 2.94443898,\n",
       "       2.89037176, 2.7080502 , 2.7080502 , 2.77258872, 2.7080502 ,\n",
       "       2.77258872, 2.63905733, 2.83321334, 2.77258872, 2.7080502 ,\n",
       "       2.89037176, 3.04452244, 2.99573227, 2.56494936, 3.36729583,\n",
       "       3.13549422, 2.99573227, 3.13549422, 3.17805383, 3.21887582,\n",
       "       3.17805383, 2.89037176, 3.36729583, 2.94443898, 3.13549422,\n",
       "       3.13549422, 3.09104245, 3.21887582, 3.49650756, 3.33220451,\n",
       "       3.21887582, 3.21887582, 3.25809654, 3.29583687, 2.86220088,\n",
       "       2.77258872, 2.74084002, 2.67414865, 3.09104245, 3.09104245,\n",
       "       3.17805383, 3.11351531, 3.36729583, 3.19867312, 3.36729583,\n",
       "       3.49650756, 2.99573227, 2.89037176, 2.91777073, 2.86220088,\n",
       "       3.38439026, 3.4657359 , 3.33220451, 3.27714473, 2.99573227,\n",
       "       2.56494936, 2.94443898, 2.94443898, 2.80336038, 2.80336038,\n",
       "       2.56494936, 2.56494936, 2.56494936, 3.44998755, 3.40119738,\n",
       "       3.58351894, 3.23867845, 3.51154544, 2.86220088, 2.83321334,\n",
       "       2.74084002, 2.7080502 , 2.86220088, 3.02042489, 2.94443898,\n",
       "       2.91777073, 2.77258872, 2.74084002, 2.74084002, 2.77258872,\n",
       "       3.36729583, 3.19867312, 3.25809654, 3.23867845, 3.41772668,\n",
       "       3.51154544, 3.40119738, 3.41772668, 3.09104245, 3.06805294,\n",
       "       3.06805294, 3.763523  , 3.58629287, 3.49042852, 3.67376582,\n",
       "       3.58629287, 2.99071973, 2.96527307, 3.0056826 , 2.95491028,\n",
       "       3.02042489, 3.0056826 , 3.22286785, 3.02042489, 2.96527307,\n",
       "       3.02529108, 3.03495299, 2.92316158, 2.89591194, 2.95491028,\n",
       "       2.87356464, 2.89591194, 2.86220088, 3.40119738, 3.314186  ,\n",
       "       3.30321697, 3.43075618, 3.04927304, 3.14415228, 3.16968558,\n",
       "       3.17387846, 3.01062089, 2.83321334, 3.07269331, 2.78501124,\n",
       "       3.44998755, 3.38439026, 3.06805294, 2.98568194, 3.10458668,\n",
       "       3.0056826 , 3.02529108, 2.83321334, 2.8678989 , 2.80336038,\n",
       "       2.90142159, 2.82731362, 2.74084002, 2.95491028, 2.91777073,\n",
       "       3.46260601, 3.52929738, 3.57515069, 3.31054301, 3.23474917,\n",
       "       3.13549422, 3.30321697, 3.17387846, 3.53222564, 3.54095932,\n",
       "       3.45946629, 3.61899333, 3.34638915, 3.36037539, 3.28840189,\n",
       "       3.51154544, 3.72569343, 3.64021428, 3.46885603, 3.61630876,\n",
       "       3.33220451, 3.27336401, 3.19047635, 2.94968834, 3.53514535,\n",
       "       3.39450839, 3.4436181 , 3.61091791, 3.47196645, 3.84160054,\n",
       "       3.32862669, 3.70868208, 3.79098468, 3.77045944, 3.59456877,\n",
       "       3.40119738, 3.79773386, 3.71113006, 3.5204608 , 3.39450839,\n",
       "       3.48737508, 3.16547505, 3.55534806, 3.16124671, 3.47815842,\n",
       "       3.30321697, 3.28091122, 3.25037449, 3.15700042, 3.40119738,\n",
       "       3.66612247, 3.66356165, 3.55820113, 3.47506723, 3.61091791,\n",
       "       3.62966009, 3.52929738, 3.54673969, 3.53805656, 3.39785848,\n",
       "       3.49650756, 3.54095932, 3.51749784, 3.47815842, 3.49347266,\n",
       "       3.45315712, 3.33576958,       -inf, 3.42426265, 3.23474917,\n",
       "       3.18635263, 3.10906096, 3.28091122, 3.0056826 , 2.8678989 ,\n",
       "       3.33220451, 3.29583687, 3.52636052, 3.4339872 , 3.36729583,\n",
       "       3.29583687, 3.17805383, 3.13549422, 3.58351894, 3.61091791,\n",
       "       3.4339872 , 3.63758616, 3.58351894, 3.58351894, 3.58351894,\n",
       "       3.52636052, 3.63758616, 3.4657359 , 3.63758616, 3.21887582,\n",
       "       3.63758616, 3.25809654, 3.09104245, 3.4657359 , 3.58351894,\n",
       "       3.29583687, 3.29583687, 3.78418963, 3.4657359 , 3.33220451,\n",
       "       3.4339872 ])"
      ]
     },
     "execution_count": 130,
     "metadata": {},
     "output_type": "execute_result"
    }
   ],
   "source": [
    "np.log(mpg)"
   ]
  },
  {
   "cell_type": "markdown",
   "metadata": {},
   "source": [
    "7. (2 pts) Use boolean indexing to create an array of `True/False` using `origin` and the value 'US'."
   ]
  },
  {
   "cell_type": "code",
   "execution_count": 161,
   "metadata": {
    "scrolled": true
   },
   "outputs": [
    {
     "data": {
      "text/plain": [
       "array([ True,  True,  True,  True,  True,  True,  True,  True,  True,\n",
       "        True, False,  True,  True,  True,  True,  True,  True,  True,\n",
       "        True,  True, False,  True,  True,  True, False, False, False,\n",
       "       False, False, False,  True,  True,  True,  True,  True, False,\n",
       "        True, False,  True, False,  True,  True,  True,  True,  True,\n",
       "        True,  True,  True,  True,  True,  True,  True,  True,  True,\n",
       "        True,  True,  True, False, False, False, False, False, False,\n",
       "        True, False,  True, False,  True,  True,  True,  True,  True,\n",
       "        True,  True,  True,  True,  True,  True, False,  True,  True,\n",
       "        True,  True, False, False, False, False,  True, False, False,\n",
       "        True, False,  True,  True,  True,  True,  True,  True,  True,\n",
       "        True,  True,  True,  True,  True,  True,  True,  True,  True,\n",
       "        True, False,  True,  True,  True,  True,  True, False,  True,\n",
       "       False, False,  True,  True, False,  True,  True, False, False,\n",
       "       False, False,  True, False, False,  True,  True,  True,  True,\n",
       "        True, False,  True, False,  True,  True,  True,  True,  True,\n",
       "        True,  True,  True,  True, False, False, False, False, False,\n",
       "        True, False, False, False, False, False,  True,  True,  True,\n",
       "        True,  True,  True,  True,  True,  True,  True,  True,  True,\n",
       "        True,  True,  True, False,  True,  True,  True, False, False,\n",
       "       False,  True, False,  True, False, False, False, False, False,\n",
       "       False, False,  True,  True, False,  True,  True,  True,  True,\n",
       "        True,  True,  True,  True,  True,  True, False, False,  True,\n",
       "        True,  True,  True, False, False, False,  True, False,  True,\n",
       "       False, False, False,  True,  True,  True,  True, False,  True,\n",
       "       False,  True, False,  True,  True,  True,  True,  True,  True,\n",
       "        True,  True,  True,  True,  True,  True, False,  True, False,\n",
       "        True,  True,  True, False, False, False, False, False, False,\n",
       "        True, False, False, False,  True,  True,  True,  True,  True,\n",
       "        True,  True,  True,  True,  True,  True,  True,  True,  True,\n",
       "        True,  True,  True,  True, False, False,  True, False,  True,\n",
       "        True, False, False, False, False, False, False, False,  True,\n",
       "        True,  True,  True,  True,  True,  True,  True,  True,  True,\n",
       "        True,  True,  True, False, False,  True,  True, False,  True,\n",
       "       False,  True,  True,  True, False, False,  True,  True,  True,\n",
       "        True, False, False,  True, False,  True,  True,  True,  True,\n",
       "       False, False, False, False, False, False,  True, False, False,\n",
       "       False, False, False, False, False, False, False, False, False,\n",
       "       False,  True, False,  True,  True,  True,  True,  True, False,\n",
       "        True, False, False, False, False, False,  True,  True,  True,\n",
       "       False, False, False, False, False, False, False, False, False,\n",
       "       False, False,  True,  True,  True,  True,  True,  True,  True,\n",
       "        True,  True,  True,  True,  True, False, False, False,  True,\n",
       "        True, False, False, False, False, False, False,  True,  True,\n",
       "        True,  True, False,  True,  True,  True, False,  True,  True,\n",
       "        True])"
      ]
     },
     "execution_count": 161,
     "metadata": {},
     "output_type": "execute_result"
    }
   ],
   "source": [
    "US_cars = np.array(df['Origin'] == 'US')\n",
    "US_cars"
   ]
  },
  {
   "cell_type": "markdown",
   "metadata": {},
   "source": [
    "8. (2 pts) Apply your index (from above) to the `car` array. You should now only see cars that are of US origin. "
   ]
  },
  {
   "cell_type": "code",
   "execution_count": 162,
   "metadata": {
    "scrolled": true
   },
   "outputs": [
    {
     "data": {
      "text/plain": [
       "array(['Chevrolet Chevelle Malibu', 'Buick Skylark 320',\n",
       "       'Plymouth Satellite', 'AMC Rebel SST', 'Ford Torino',\n",
       "       'Ford Galaxie 500', 'Chevrolet Impala', 'Plymouth Fury iii',\n",
       "       'Pontiac Catalina', 'AMC Ambassador DPL',\n",
       "       'Chevrolet Chevelle Concours (sw)', 'Ford Torino (sw)',\n",
       "       'Plymouth Satellite (sw)', 'AMC Rebel SST (sw)',\n",
       "       'Dodge Challenger SE', \"Plymouth 'Cuda 340\",\n",
       "       'Ford Mustang Boss 302', 'Chevrolet Monte Carlo',\n",
       "       'Buick Estate Wagon (sw)', 'Plymouth Duster', 'AMC Hornet',\n",
       "       'Ford Maverick', 'AMC Gremlin', 'Ford F250', 'Chevy C20',\n",
       "       'Dodge D200', 'Hi 1200D', 'Chevrolet Vega 2300', 'Ford Pinto',\n",
       "       'AMC Gremlin', 'Plymouth Satellite Custom',\n",
       "       'Chevrolet Chevelle Malibu', 'Ford Torino 500', 'AMC Matador',\n",
       "       'Chevrolet Impala', 'Pontiac Catalina Brougham',\n",
       "       'Ford Galaxie 500', 'Plymouth Fury iii', 'Dodge Monaco (sw)',\n",
       "       'Ford Country Squire (sw)', 'Pontiac Safari (sw)',\n",
       "       'AMC Hornet Sportabout (sw)', 'Chevrolet Vega (sw)',\n",
       "       'Pontiac Firebird', 'Ford Mustang', 'Mercury Capri 2000',\n",
       "       'Plymouth Cricket', 'Dodge Colt Hardtop', 'Chevrolet Vega',\n",
       "       'Ford Pinto Runabout', 'Chevrolet Impala', 'Pontiac Catalina',\n",
       "       'Plymouth Fury III', 'Ford Galaxie 500', 'AMC Ambassador SST',\n",
       "       'Mercury Marquis', 'Buick LeSabre Custom',\n",
       "       'Oldsmobile Delta 88 Royale', 'Chrysler Newport Royal',\n",
       "       'AMC Matador (sw)', 'Chevrolet Chevelle Concours (sw)',\n",
       "       'Ford Gran Torino (sw)', 'Plymouth Satellite Custom (sw)',\n",
       "       'Ford Pinto (sw)', 'Dodge Colt (sw)', 'Buick Century 350',\n",
       "       'AMC Matador', 'Chevrolet Malibu', 'Ford Gran Torino',\n",
       "       'Dodge Coronet Custom', 'Mercury Marquis Brougham',\n",
       "       'Chevrolet Caprice Classic', 'Ford LTD',\n",
       "       'Plymouth Fury Gran Sedan', 'Chrysler New Yorker Brougham',\n",
       "       'Buick Electra 225 Custom', 'AMC Ambassador Brougham',\n",
       "       'Plymouth Valiant', 'Chevrolet Nova Custom', 'AMC Hornet',\n",
       "       'Ford Maverick', 'Plymouth Duster', 'Chevrolet Impala',\n",
       "       'Ford Country', 'Plymouth Custom Suburb',\n",
       "       'Oldsmobile Vista Cruiser', 'AMC Gremlin', 'Chevrolet Vega',\n",
       "       'Ford Pinto', 'Mercury Capri v6', 'Chevrolet Monte Carlo S',\n",
       "       'Pontiac Grand Prix', 'Dodge Dart Custom', 'Oldsmobile Omega',\n",
       "       'Plymouth Duster', 'Ford Maverick', 'AMC Hornet', 'Chevrolet Nova',\n",
       "       'Ford Pinto', 'Chevrolet Vega',\n",
       "       'Chevrolet Chevelle Malibu Classic', 'AMC Matador',\n",
       "       'Plymouth Satellite Sebring', 'Ford Gran Torino',\n",
       "       'Buick Century Luxus (sw)', 'Dodge Coronet Custom (sw)',\n",
       "       'Ford Gran Torino (sw)', 'AMC Matador (sw)', 'Dodge Colt',\n",
       "       'Plymouth Valiant Custom', 'Chevrolet Nova', 'Mercury Monarch',\n",
       "       'Ford Maverick', 'Pontiac Catalina', 'Chevrolet Bel Air',\n",
       "       'Plymouth Grand Fury', 'Ford LTD', 'Buick Century',\n",
       "       'Chevrolete Chevelle Malibu', 'AMC Matador', 'Plymouth Fury',\n",
       "       'Buick Skyhawk', 'Chevrolet Monza 2+2', 'Ford Mustang II',\n",
       "       'Ford Pinto', 'AMC Gremlin', 'Pontiac Astro', 'Ford Pinto',\n",
       "       'AMC Pacer', 'Capri ii', 'Dodge Colt',\n",
       "       'Chevrolet Chevelle Malibu Classic', 'Dodge Coronet Brougham',\n",
       "       'AMC Matador', 'Ford Gran Torino', 'Plymouth Valiant',\n",
       "       'Chevrolet Nova', 'Ford Maverick', 'AMC Hornet',\n",
       "       'Chevrolet Chevette', 'Chevrolet Woody', 'Dodge Aspen SE',\n",
       "       'Ford Grenada ghia', 'Pontiac Ventura SJ', 'AMC Pacer d/l',\n",
       "       'Ford Pinto', 'Plymouth Volare Premier v8', 'Cadillac Seville',\n",
       "       'Chevrolet C10', 'Ford F108', 'Dodge D100',\n",
       "       'Buick Opel Isuzu Deluxe', 'Plymouth Arrow GS',\n",
       "       'Chevrolet Caprice Classic', 'Oldsmobile Cutlass Supreme',\n",
       "       'Dodge Monaco Brougham', 'Mercury Cougar Brougham',\n",
       "       'Chevrolet Concours', 'Buick Skylark', 'Plymouth Volare Custom',\n",
       "       'Ford Grenada', 'Pontiac Grand Prix LJ',\n",
       "       'Chevrolet Monte Carlo Landau', 'Chrysler Cordoba',\n",
       "       'Ford Thunderbird', 'Pontiac Sunbird Coupe', 'Ford Mustang II 2+2',\n",
       "       'Chevrolet Chevette', 'Dodge Colt m/m', 'Ford Fiesta',\n",
       "       'Oldsmobile Cutlass Salon Brougham', 'Dodge Diplomat',\n",
       "       'Mercury Monarch ghia', 'Pontiac Phoenix LJ', 'Chevrolet Malibu',\n",
       "       'Ford Fairmont (auto)', 'Ford Fairmont (man)', 'Plymouth Volare',\n",
       "       'AMC Concord', 'Buick Century Special', 'Mercury Zephyr',\n",
       "       'Dodge Aspen', 'AMC Concord d/l', 'Chevrolet Monte Carlo Landau',\n",
       "       'Buick Regal Sport Coupe (turbo)', 'Ford Futura',\n",
       "       'Dodge Magnum XE', 'Chevrolet Chevette', 'Dodge Omni',\n",
       "       'Plymouth Sapporo', 'Oldsmobile Starfire SX', 'Pontiac Lemans V6',\n",
       "       'Mercury Zephyr 6', 'Ford Fairmont 4', 'AMC Concord DL 6',\n",
       "       'Dodge Aspen 6', 'Chevrolet Caprice Classic', 'Ford LTD Landau',\n",
       "       'Mercury Grand Marquis', 'Dodge St. Regis',\n",
       "       'Buick Estate Wagon (sw)', 'Ford Country Squire (sw)',\n",
       "       'Chevrolet Malibu Classic (sw)',\n",
       "       'Chrysler Lebaron Town @ Country (sw)',\n",
       "       'Dodge Colt Hatchback Custom', 'AMC Spirit DL',\n",
       "       'Cadillac Eldorado', 'Oldsmobile Cutlass Salon Brougham',\n",
       "       'Plymouth Horizon', 'Plymouth Horizon TC3',\n",
       "       'Buick Skylark Limited', 'Chevrolet Citation',\n",
       "       'Oldsmobile Omega Brougham', 'Pontiac Phoenix',\n",
       "       'Chevrolet Chevette', 'Chevrolet Citation', 'Ford Fairmont',\n",
       "       'AMC Concord', 'Dodge Aspen', 'Dodge Colt', 'Ford Mustang Cobra',\n",
       "       'Plymouth Reliant', 'Buick Skylark', 'Dodge Aries Wagon (sw)',\n",
       "       'Chevrolet Citation', 'Plymouth Reliant', 'Plymouth Champ',\n",
       "       'Plymouth Horizon 4', 'Ford Escort 4W', 'Ford Escort 2H',\n",
       "       'Buick Century', 'Oldsmobile Cutlass LS', 'Ford Grenada gl',\n",
       "       'Chrysler Lebaron Salon', 'Chevrolet Cavalier',\n",
       "       'Chevrolet Cavalier Wagon', 'Chevrolet Cavalier 2-door',\n",
       "       'Pontiac J2000 SE Hatchback', 'Dodge Aries SE', 'Pontiac Phoenix',\n",
       "       'Ford Fairmont Futura', 'AMC Concord DL', 'Plymouth Horizon Miser',\n",
       "       'Mercury Lynx l', 'Buick Century Limited',\n",
       "       'Oldsmobile Cutlass Ciera (diesel)', 'Chrysler Lebaron Medallion',\n",
       "       'Ford Grenada l', 'Dodge Charger 2.2', 'Chevrolet Camaro',\n",
       "       'Ford Mustang GL', 'Dodge Rampage', 'Ford Ranger', 'Chevy S-10'],\n",
       "      dtype=object)"
      ]
     },
     "execution_count": 162,
     "metadata": {},
     "output_type": "execute_result"
    }
   ],
   "source": [
    "car[US_cars]"
   ]
  },
  {
   "cell_type": "markdown",
   "metadata": {},
   "source": [
    "### Use numpy or pandas to answer the following questions."
   ]
  },
  {
   "cell_type": "markdown",
   "metadata": {},
   "source": [
    "9. (3 pts) What is the average horsepower for `Europe` cars? (Hint: create a boolean index of 'US' apply it to horsepower and perform the calculation.)"
   ]
  },
  {
   "cell_type": "code",
   "execution_count": 160,
   "metadata": {},
   "outputs": [
    {
     "data": {
      "text/plain": [
       "76.0"
      ]
     },
     "execution_count": 160,
     "metadata": {},
     "output_type": "execute_result"
    }
   ],
   "source": [
    "Europe_index = (df[df['Origin'] == 'Europe'])\n",
    "\n",
    "Europe_index['Horsepower'].median()"
   ]
  },
  {
   "cell_type": "markdown",
   "metadata": {},
   "source": [
    "10. (3 pts) On average are Japanese cars more fuel-efficient than US cars? Show the code that you used to determine this.  "
   ]
  },
  {
   "cell_type": "code",
   "execution_count": 97,
   "metadata": {},
   "outputs": [
    {
     "name": "stdout",
     "output_type": "stream",
     "text": [
      "Japanese cars are on average more efficient than US cars\n"
     ]
    }
   ],
   "source": [
    "Japan_index = (df[df['Origin'] == 'Japan'])\n",
    "US_index = (df[df['Origin'] == 'US'])\n",
    "\n",
    "US_eff = US_index['MPG'].median()\n",
    "Japan_eff = Japan_index['MPG'].median()\n",
    "\n",
    "if US_eff > Japan_eff:\n",
    "    print('US cars are more fuel efficient on avearage than Japanese cars')\n",
    "else:\n",
    "    print('Japanese cars are on average more efficient than US cars')"
   ]
  },
  {
   "cell_type": "markdown",
   "metadata": {},
   "source": [
    "11. (3 pts) What is the correlation coefficient of `mpg` and `weight`? What is a correlation coefficient? What does the result indicate about the relationship between mpg and weight? "
   ]
  },
  {
   "cell_type": "code",
   "execution_count": 164,
   "metadata": {},
   "outputs": [
    {
     "name": "stdout",
     "output_type": "stream",
     "text": [
      "            MPG   Weight\n",
      "MPG     1.00000 -0.78751\n",
      "Weight -0.78751  1.00000\n"
     ]
    }
   ],
   "source": [
    "# correlation coefficient it looks like is the slope off the scatter plot graph\n",
    "\n",
    "MPG_to_Weight = df[['MPG','Weight']]\n",
    "print(MPG_to_Weight.corr())\n",
    "\n",
    "#im sure there is a way to clean this function up, as to only display the relevant value.\n",
    "\n",
    "#the relationship of MPG to Weight is negative meaning that as one increases, the other decreases. As well, the correlation coeeficient is almost -1,\n",
    "#Meaning the relationship is almost directly inverse."
   ]
  },
  {
   "cell_type": "markdown",
   "metadata": {},
   "source": [
    "Extra credit: (3 pts) Create a new pandas dataframe that has the average mpg, weight, and horsepower per country of origin"
   ]
  },
  {
   "cell_type": "code",
   "execution_count": 148,
   "metadata": {},
   "outputs": [
    {
     "data": {
      "text/html": [
       "<div>\n",
       "<style scoped>\n",
       "    .dataframe tbody tr th:only-of-type {\n",
       "        vertical-align: middle;\n",
       "    }\n",
       "\n",
       "    .dataframe tbody tr th {\n",
       "        vertical-align: top;\n",
       "    }\n",
       "\n",
       "    .dataframe thead th {\n",
       "        text-align: right;\n",
       "    }\n",
       "</style>\n",
       "<table border=\"1\" class=\"dataframe\">\n",
       "  <thead>\n",
       "    <tr style=\"text-align: right;\">\n",
       "      <th></th>\n",
       "      <th>US</th>\n",
       "      <th>Japan</th>\n",
       "      <th>Europe</th>\n",
       "    </tr>\n",
       "  </thead>\n",
       "  <tbody>\n",
       "    <tr>\n",
       "      <th>Weight</th>\n",
       "      <td>3380.50</td>\n",
       "      <td>2155.0</td>\n",
       "      <td>2246.0</td>\n",
       "    </tr>\n",
       "    <tr>\n",
       "      <th>MPG</th>\n",
       "      <td>18.35</td>\n",
       "      <td>31.6</td>\n",
       "      <td>26.0</td>\n",
       "    </tr>\n",
       "    <tr>\n",
       "      <th>Horsepower</th>\n",
       "      <td>105.00</td>\n",
       "      <td>75.0</td>\n",
       "      <td>76.0</td>\n",
       "    </tr>\n",
       "  </tbody>\n",
       "</table>\n",
       "</div>"
      ],
      "text/plain": [
       "                 US   Japan  Europe\n",
       "Weight      3380.50  2155.0  2246.0\n",
       "MPG           18.35    31.6    26.0\n",
       "Horsepower   105.00    75.0    76.0"
      ]
     },
     "execution_count": 148,
     "metadata": {},
     "output_type": "execute_result"
    }
   ],
   "source": [
    "#I know this solution is quite clunky and I'm sure there is a much simpler way of achieving the same thing\n",
    "\n",
    "US_index =pd.DataFrame(df[df['Origin'] == 'US'])\n",
    "Japan_index =pd.DataFrame(df[df['Origin'] == 'Japan'])\n",
    "Europe_index =pd.DataFrame(df[df['Origin'] == 'Europe'])\n",
    "\n",
    "\n",
    "average_by_country = pd.DataFrame([[US_index['Weight'].median(),Japan_index['Weight'].median(),Europe_index['Weight'].median()],\n",
    "                                 [US_index['MPG'].median(),Japan_index['MPG'].median(),Europe_index['MPG'].median()],\n",
    "                                  [US_index['Horsepower'].median(),Japan_index['Horsepower'].median(),Europe_index['Horsepower'].median()]],\n",
    "                                 ['Weight','MPG','Horsepower'],columns=['US','Japan','Europe'])\n",
    "average_by_country"
   ]
  }
 ],
 "metadata": {
  "kernelspec": {
   "display_name": "Python 3 (ipykernel)",
   "language": "python",
   "name": "python3"
  },
  "language_info": {
   "codemirror_mode": {
    "name": "ipython",
    "version": 3
   },
   "file_extension": ".py",
   "mimetype": "text/x-python",
   "name": "python",
   "nbconvert_exporter": "python",
   "pygments_lexer": "ipython3",
   "version": "3.9.1rc1"
  }
 },
 "nbformat": 4,
 "nbformat_minor": 4
}
