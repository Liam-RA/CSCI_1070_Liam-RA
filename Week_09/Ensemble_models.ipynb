{
 "cells": [
  {
   "cell_type": "code",
   "execution_count": 2,
   "metadata": {},
   "outputs": [
    {
     "name": "stdout",
     "output_type": "stream",
     "text": [
      "Requirement already satisfied: pandas in c:\\users\\admin\\appdata\\local\\programs\\python\\python39\\lib\\site-packages (2.2.0)\n",
      "Requirement already satisfied: numpy<2,>=1.22.4 in c:\\users\\admin\\appdata\\local\\programs\\python\\python39\\lib\\site-packages (from pandas) (1.26.3)\n",
      "Requirement already satisfied: python-dateutil>=2.8.2 in c:\\users\\admin\\appdata\\local\\programs\\python\\python39\\lib\\site-packages (from pandas) (2.8.2)\n",
      "Requirement already satisfied: pytz>=2020.1 in c:\\users\\admin\\appdata\\local\\programs\\python\\python39\\lib\\site-packages (from pandas) (2023.4)\n",
      "Requirement already satisfied: tzdata>=2022.7 in c:\\users\\admin\\appdata\\local\\programs\\python\\python39\\lib\\site-packages (from pandas) (2023.4)\n",
      "Requirement already satisfied: six>=1.5 in c:\\users\\admin\\appdata\\local\\programs\\python\\python39\\lib\\site-packages (from python-dateutil>=2.8.2->pandas) (1.16.0)\n",
      "Note: you may need to restart the kernel to use updated packages.\n"
     ]
    },
    {
     "name": "stderr",
     "output_type": "stream",
     "text": [
      "\n",
      "[notice] A new release of pip is available: 23.3.2 -> 24.0\n",
      "[notice] To update, run: python.exe -m pip install --upgrade pip\n"
     ]
    },
    {
     "name": "stdout",
     "output_type": "stream",
     "text": [
      "Requirement already satisfied: numpy in c:\\users\\admin\\appdata\\local\\programs\\python\\python39\\lib\\site-packages (1.26.3)\n",
      "Note: you may need to restart the kernel to use updated packages.\n"
     ]
    },
    {
     "name": "stderr",
     "output_type": "stream",
     "text": [
      "\n",
      "[notice] A new release of pip is available: 23.3.2 -> 24.0\n",
      "[notice] To update, run: python.exe -m pip install --upgrade pip\n"
     ]
    },
    {
     "name": "stdout",
     "output_type": "stream",
     "text": [
      "Requirement already satisfied: matplotlib in c:\\users\\admin\\appdata\\local\\programs\\python\\python39\\lib\\site-packages (3.8.2)\n",
      "Requirement already satisfied: contourpy>=1.0.1 in c:\\users\\admin\\appdata\\local\\programs\\python\\python39\\lib\\site-packages (from matplotlib) (1.2.0)\n",
      "Requirement already satisfied: cycler>=0.10 in c:\\users\\admin\\appdata\\local\\programs\\python\\python39\\lib\\site-packages (from matplotlib) (0.12.1)\n",
      "Requirement already satisfied: fonttools>=4.22.0 in c:\\users\\admin\\appdata\\local\\programs\\python\\python39\\lib\\site-packages (from matplotlib) (4.47.2)\n",
      "Requirement already satisfied: kiwisolver>=1.3.1 in c:\\users\\admin\\appdata\\local\\programs\\python\\python39\\lib\\site-packages (from matplotlib) (1.4.5)\n",
      "Requirement already satisfied: numpy<2,>=1.21 in c:\\users\\admin\\appdata\\local\\programs\\python\\python39\\lib\\site-packages (from matplotlib) (1.26.3)\n",
      "Requirement already satisfied: packaging>=20.0 in c:\\users\\admin\\appdata\\local\\programs\\python\\python39\\lib\\site-packages (from matplotlib) (23.2)\n",
      "Requirement already satisfied: pillow>=8 in c:\\users\\admin\\appdata\\local\\programs\\python\\python39\\lib\\site-packages (from matplotlib) (10.2.0)\n",
      "Requirement already satisfied: pyparsing>=2.3.1 in c:\\users\\admin\\appdata\\local\\programs\\python\\python39\\lib\\site-packages (from matplotlib) (3.1.1)\n",
      "Requirement already satisfied: python-dateutil>=2.7 in c:\\users\\admin\\appdata\\local\\programs\\python\\python39\\lib\\site-packages (from matplotlib) (2.8.2)\n",
      "Requirement already satisfied: importlib-resources>=3.2.0 in c:\\users\\admin\\appdata\\local\\programs\\python\\python39\\lib\\site-packages (from matplotlib) (6.1.1)\n",
      "Requirement already satisfied: zipp>=3.1.0 in c:\\users\\admin\\appdata\\local\\programs\\python\\python39\\lib\\site-packages (from importlib-resources>=3.2.0->matplotlib) (3.17.0)\n",
      "Requirement already satisfied: six>=1.5 in c:\\users\\admin\\appdata\\local\\programs\\python\\python39\\lib\\site-packages (from python-dateutil>=2.7->matplotlib) (1.16.0)\n",
      "Note: you may need to restart the kernel to use updated packages.\n"
     ]
    },
    {
     "name": "stderr",
     "output_type": "stream",
     "text": [
      "\n",
      "[notice] A new release of pip is available: 23.3.2 -> 24.0\n",
      "[notice] To update, run: python.exe -m pip install --upgrade pip\n"
     ]
    },
    {
     "name": "stdout",
     "output_type": "stream",
     "text": [
      "Requirement already satisfied: scikit-learn in c:\\users\\admin\\appdata\\local\\programs\\python\\python39\\lib\\site-packages (1.4.1.post1)\n",
      "Requirement already satisfied: numpy<2.0,>=1.19.5 in c:\\users\\admin\\appdata\\local\\programs\\python\\python39\\lib\\site-packages (from scikit-learn) (1.26.3)\n",
      "Requirement already satisfied: scipy>=1.6.0 in c:\\users\\admin\\appdata\\local\\programs\\python\\python39\\lib\\site-packages (from scikit-learn) (1.12.0)\n",
      "Requirement already satisfied: joblib>=1.2.0 in c:\\users\\admin\\appdata\\local\\programs\\python\\python39\\lib\\site-packages (from scikit-learn) (1.3.2)\n",
      "Requirement already satisfied: threadpoolctl>=2.0.0 in c:\\users\\admin\\appdata\\local\\programs\\python\\python39\\lib\\site-packages (from scikit-learn) (3.3.0)\n",
      "Note: you may need to restart the kernel to use updated packages.\n"
     ]
    },
    {
     "name": "stderr",
     "output_type": "stream",
     "text": [
      "\n",
      "[notice] A new release of pip is available: 23.3.2 -> 24.0\n",
      "[notice] To update, run: python.exe -m pip install --upgrade pip\n"
     ]
    }
   ],
   "source": [
    "%pip install pandas\n",
    "%pip install numpy\n",
    "%pip install matplotlib\n",
    "%pip install scikit-learn"
   ]
  },
  {
   "cell_type": "code",
   "execution_count": 3,
   "metadata": {},
   "outputs": [
    {
     "name": "stderr",
     "output_type": "stream",
     "text": [
      "C:\\Users\\Admin\\AppData\\Local\\Temp\\ipykernel_10020\\2151744951.py:1: DeprecationWarning: \n",
      "Pyarrow will become a required dependency of pandas in the next major release of pandas (pandas 3.0),\n",
      "(to allow more performant data types, such as the Arrow string type, and better interoperability with other libraries)\n",
      "but was not found to be installed on your system.\n",
      "If this would cause problems for you,\n",
      "please provide us feedback at https://github.com/pandas-dev/pandas/issues/54466\n",
      "        \n",
      "  import pandas as pd\n"
     ]
    }
   ],
   "source": [
    "import pandas as pd\n",
    "import numpy as np\n",
    "import matplotlib.pyplot as plt"
   ]
  },
  {
   "cell_type": "markdown",
   "metadata": {},
   "source": [
    "# Topic of class"
   ]
  },
  {
   "cell_type": "code",
   "execution_count": null,
   "metadata": {},
   "outputs": [],
   "source": [
    "# "
   ]
  },
  {
   "cell_type": "markdown",
   "metadata": {},
   "source": [
    "Bootsprapping: replacing a random sample (I.E. generate random training sets, then injecting it into the dataset). replacing the portion of the dataset used for test data, with data that is generated and based on the test data"
   ]
  },
  {
   "cell_type": "markdown",
   "metadata": {},
   "source": [
    "bagging: creates additional training data"
   ]
  },
  {
   "cell_type": "markdown",
   "metadata": {},
   "source": [
    "Boosting: reduces bias, produce several prediction functions, then assign each function a weight based on which perform the best."
   ]
  },
  {
   "cell_type": "markdown",
   "metadata": {},
   "source": [
    "# ensemble models"
   ]
  },
  {
   "cell_type": "code",
   "execution_count": 5,
   "metadata": {},
   "outputs": [],
   "source": [
    "from sklearn import tree\n",
    "from sklearn.metrics import ConfusionMatrixDisplay\n",
    "\n",
    "df = pd.read_csv('../week_06/diabetes.csv')"
   ]
  },
  {
   "cell_type": "code",
   "execution_count": 22,
   "metadata": {},
   "outputs": [],
   "source": [
    "from sklearn.model_selection import train_test_split\n",
    "from sklearn.preprocessing import StandardScaler\n",
    "\n",
    "x = df.drop('Outcome',axis=1)\n",
    "y = df['Outcome']\n",
    "\n",
    "x_train,x_test,y_train,y_test = train_test_split(x,y,test_size=.3,random_state=15)\n",
    "\n",
    "sc = StandardScaler()\n",
    "x_train = sc.fit_transform(x_train)\n",
    "x_test = sc.fit_transform(x_test)\n",
    "\n"
   ]
  },
  {
   "cell_type": "code",
   "execution_count": 23,
   "metadata": {},
   "outputs": [
    {
     "data": {
      "text/plain": [
       "0.7316017316017316"
      ]
     },
     "execution_count": 23,
     "metadata": {},
     "output_type": "execute_result"
    }
   ],
   "source": [
    "from sklearn.ensemble import RandomForestClassifier\n",
    "# Random forest is aggregates desicion trees, bagging decision trees\n",
    "\n",
    "forest = RandomForestClassifier(n_estimators=100,random_state=16)\n",
    "forest.fit(x_train, y_train)\n",
    "forest.score(x_test,y_test)"
   ]
  },
  {
   "cell_type": "code",
   "execution_count": 25,
   "metadata": {},
   "outputs": [
    {
     "ename": "TypeError",
     "evalue": "from_estimator() missing 1 required positional argument: 'y'",
     "output_type": "error",
     "traceback": [
      "\u001b[1;31m---------------------------------------------------------------------------\u001b[0m",
      "\u001b[1;31mTypeError\u001b[0m                                 Traceback (most recent call last)",
      "Cell \u001b[1;32mIn[25], line 1\u001b[0m\n\u001b[1;32m----> 1\u001b[0m \u001b[43mConfusionMatrixDisplay\u001b[49m\u001b[38;5;241;43m.\u001b[39;49m\u001b[43mfrom_estimator\u001b[49m\u001b[43m(\u001b[49m\u001b[43mx_test\u001b[49m\u001b[43m,\u001b[49m\u001b[43mx_train\u001b[49m\u001b[43m)\u001b[49m\n",
      "\u001b[1;31mTypeError\u001b[0m: from_estimator() missing 1 required positional argument: 'y'"
     ]
    }
   ],
   "source": [
    "ConfusionMatrixDisplay.from_estimator(x_test,x_train)"
   ]
  },
  {
   "cell_type": "code",
   "execution_count": 26,
   "metadata": {},
   "outputs": [
    {
     "name": "stdout",
     "output_type": "stream",
     "text": [
      "[0.09152222 0.2731637  0.08516329 0.06606601 0.06122353 0.16695638\n",
      " 0.11945549 0.13644937] Index(['Pregnancies', 'Glucose', 'BloodPressure', 'SkinThickness', 'Insulin',\n",
      "       'BMI', 'DiabetesPedigreeFunction', 'Age'],\n",
      "      dtype='object')\n"
     ]
    }
   ],
   "source": [
    "print(forest.feature_importances_,x.columns)"
   ]
  },
  {
   "cell_type": "code",
   "execution_count": null,
   "metadata": {},
   "outputs": [],
   "source": [
    "tree_5 = forest.estimators[4]\n",
    "tree.plot_tree(tree_5)\n",
    "plt.savesvg('forest_tree.svg')"
   ]
  },
  {
   "cell_type": "code",
   "execution_count": 15,
   "metadata": {},
   "outputs": [
    {
     "name": "stdout",
     "output_type": "stream",
     "text": [
      "Collecting xgboost\n",
      "  Downloading xgboost-2.0.3-py3-none-win_amd64.whl.metadata (2.0 kB)\n",
      "Requirement already satisfied: numpy in c:\\users\\admin\\appdata\\local\\programs\\python\\python39\\lib\\site-packages (from xgboost) (1.26.3)\n",
      "Requirement already satisfied: scipy in c:\\users\\admin\\appdata\\local\\programs\\python\\python39\\lib\\site-packages (from xgboost) (1.12.0)\n",
      "Downloading xgboost-2.0.3-py3-none-win_amd64.whl (99.8 MB)\n",
      "   ---------------------------------------- 0.0/99.8 MB ? eta -:--:--\n",
      "   ---------------------------------------- 0.1/99.8 MB 2.4 MB/s eta 0:00:42\n",
      "   ---------------------------------------- 0.3/99.8 MB 4.2 MB/s eta 0:00:24\n",
      "   ---------------------------------------- 0.7/99.8 MB 4.9 MB/s eta 0:00:21\n",
      "   ---------------------------------------- 1.0/99.8 MB 4.7 MB/s eta 0:00:21\n",
      "    --------------------------------------- 1.5/99.8 MB 5.4 MB/s eta 0:00:19\n",
      "    --------------------------------------- 1.6/99.8 MB 5.1 MB/s eta 0:00:20\n",
      "    --------------------------------------- 1.8/99.8 MB 5.1 MB/s eta 0:00:20\n",
      "    --------------------------------------- 2.2/99.8 MB 5.5 MB/s eta 0:00:18\n",
      "   - -------------------------------------- 2.6/99.8 MB 5.7 MB/s eta 0:00:17\n",
      "   - -------------------------------------- 3.0/99.8 MB 5.8 MB/s eta 0:00:17\n",
      "   - -------------------------------------- 3.5/99.8 MB 6.0 MB/s eta 0:00:17\n",
      "   - -------------------------------------- 3.9/99.8 MB 6.1 MB/s eta 0:00:16\n",
      "   - -------------------------------------- 4.2/99.8 MB 6.1 MB/s eta 0:00:16\n",
      "   - -------------------------------------- 4.9/99.8 MB 6.2 MB/s eta 0:00:16\n",
      "   -- ------------------------------------- 5.4/99.8 MB 6.3 MB/s eta 0:00:15\n",
      "   -- ------------------------------------- 5.9/99.8 MB 6.4 MB/s eta 0:00:15\n",
      "   -- ------------------------------------- 6.2/99.8 MB 6.3 MB/s eta 0:00:15\n",
      "   -- ------------------------------------- 6.4/99.8 MB 6.2 MB/s eta 0:00:15\n",
      "   -- ------------------------------------- 6.8/99.8 MB 6.3 MB/s eta 0:00:15\n",
      "   -- ------------------------------------- 7.1/99.8 MB 6.3 MB/s eta 0:00:15\n",
      "   --- ------------------------------------ 7.6/99.8 MB 6.4 MB/s eta 0:00:15\n",
      "   --- ------------------------------------ 8.2/99.8 MB 6.5 MB/s eta 0:00:15\n",
      "   --- ------------------------------------ 8.6/99.8 MB 6.6 MB/s eta 0:00:14\n",
      "   --- ------------------------------------ 9.1/99.8 MB 6.5 MB/s eta 0:00:14\n",
      "   --- ------------------------------------ 9.8/99.8 MB 6.7 MB/s eta 0:00:14\n",
      "   ---- ----------------------------------- 10.4/99.8 MB 7.0 MB/s eta 0:00:13\n",
      "   ---- ----------------------------------- 10.8/99.8 MB 7.1 MB/s eta 0:00:13\n",
      "   ---- ----------------------------------- 11.2/99.8 MB 7.3 MB/s eta 0:00:13\n",
      "   ---- ----------------------------------- 11.9/99.8 MB 7.6 MB/s eta 0:00:12\n",
      "   ----- ---------------------------------- 12.5/99.8 MB 7.8 MB/s eta 0:00:12\n",
      "   ----- ---------------------------------- 12.8/99.8 MB 7.7 MB/s eta 0:00:12\n",
      "   ----- ---------------------------------- 13.4/99.8 MB 7.7 MB/s eta 0:00:12\n",
      "   ----- ---------------------------------- 14.0/99.8 MB 7.8 MB/s eta 0:00:12\n",
      "   ----- ---------------------------------- 14.2/99.8 MB 8.0 MB/s eta 0:00:11\n",
      "   ----- ---------------------------------- 14.5/99.8 MB 8.0 MB/s eta 0:00:11\n",
      "   ------ --------------------------------- 15.2/99.8 MB 8.2 MB/s eta 0:00:11\n",
      "   ------ --------------------------------- 15.6/99.8 MB 8.0 MB/s eta 0:00:11\n",
      "   ------ --------------------------------- 16.0/99.8 MB 8.1 MB/s eta 0:00:11\n",
      "   ------ --------------------------------- 16.5/99.8 MB 8.2 MB/s eta 0:00:11\n",
      "   ------ --------------------------------- 16.9/99.8 MB 8.2 MB/s eta 0:00:11\n",
      "   ------- -------------------------------- 17.5/99.8 MB 8.3 MB/s eta 0:00:10\n",
      "   ------- -------------------------------- 17.8/99.8 MB 8.2 MB/s eta 0:00:11\n",
      "   ------- -------------------------------- 18.4/99.8 MB 8.2 MB/s eta 0:00:10\n",
      "   ------- -------------------------------- 19.1/99.8 MB 8.4 MB/s eta 0:00:10\n",
      "   ------- -------------------------------- 19.6/99.8 MB 8.4 MB/s eta 0:00:10\n",
      "   -------- ------------------------------- 20.1/99.8 MB 8.5 MB/s eta 0:00:10\n",
      "   -------- ------------------------------- 20.4/99.8 MB 8.3 MB/s eta 0:00:10\n",
      "   -------- ------------------------------- 21.1/99.8 MB 8.3 MB/s eta 0:00:10\n",
      "   -------- ------------------------------- 21.5/99.8 MB 8.3 MB/s eta 0:00:10\n",
      "   -------- ------------------------------- 22.1/99.8 MB 8.1 MB/s eta 0:00:10\n",
      "   --------- ------------------------------ 22.6/99.8 MB 8.2 MB/s eta 0:00:10\n",
      "   --------- ------------------------------ 23.0/99.8 MB 8.2 MB/s eta 0:00:10\n",
      "   --------- ------------------------------ 23.5/99.8 MB 8.2 MB/s eta 0:00:10\n",
      "   --------- ------------------------------ 24.1/99.8 MB 8.3 MB/s eta 0:00:10\n",
      "   --------- ------------------------------ 24.6/99.8 MB 8.6 MB/s eta 0:00:09\n",
      "   ---------- ----------------------------- 25.0/99.8 MB 8.5 MB/s eta 0:00:09\n",
      "   ---------- ----------------------------- 25.7/99.8 MB 8.6 MB/s eta 0:00:09\n",
      "   ---------- ----------------------------- 26.1/99.8 MB 8.6 MB/s eta 0:00:09\n",
      "   ---------- ----------------------------- 26.7/99.8 MB 8.8 MB/s eta 0:00:09\n",
      "   ---------- ----------------------------- 27.3/99.8 MB 9.1 MB/s eta 0:00:08\n",
      "   ---------- ----------------------------- 27.3/99.8 MB 9.1 MB/s eta 0:00:08\n",
      "   ----------- ---------------------------- 27.7/99.8 MB 8.5 MB/s eta 0:00:09\n",
      "   ----------- ---------------------------- 28.2/99.8 MB 8.6 MB/s eta 0:00:09\n",
      "   ----------- ---------------------------- 28.6/99.8 MB 8.5 MB/s eta 0:00:09\n",
      "   ----------- ---------------------------- 29.0/99.8 MB 8.5 MB/s eta 0:00:09\n",
      "   ----------- ---------------------------- 29.4/99.8 MB 8.4 MB/s eta 0:00:09\n",
      "   ----------- ---------------------------- 29.9/99.8 MB 8.4 MB/s eta 0:00:09\n",
      "   ------------ --------------------------- 30.3/99.8 MB 8.4 MB/s eta 0:00:09\n",
      "   ------------ --------------------------- 30.7/99.8 MB 8.4 MB/s eta 0:00:09\n",
      "   ------------ --------------------------- 31.2/99.8 MB 8.2 MB/s eta 0:00:09\n",
      "   ------------ --------------------------- 31.7/99.8 MB 8.1 MB/s eta 0:00:09\n",
      "   ------------ --------------------------- 32.2/99.8 MB 8.1 MB/s eta 0:00:09\n",
      "   ------------- -------------------------- 32.6/99.8 MB 8.1 MB/s eta 0:00:09\n",
      "   ------------- -------------------------- 32.9/99.8 MB 8.1 MB/s eta 0:00:09\n",
      "   ------------- -------------------------- 33.4/99.8 MB 7.9 MB/s eta 0:00:09\n",
      "   ------------- -------------------------- 33.7/99.8 MB 7.9 MB/s eta 0:00:09\n",
      "   ------------- -------------------------- 34.0/99.8 MB 7.6 MB/s eta 0:00:09\n",
      "   ------------- -------------------------- 34.4/99.8 MB 7.7 MB/s eta 0:00:09\n",
      "   ------------- -------------------------- 34.7/99.8 MB 7.6 MB/s eta 0:00:09\n",
      "   -------------- ------------------------- 35.1/99.8 MB 7.5 MB/s eta 0:00:09\n",
      "   -------------- ------------------------- 35.6/99.8 MB 7.4 MB/s eta 0:00:09\n",
      "   -------------- ------------------------- 35.9/99.8 MB 7.4 MB/s eta 0:00:09\n",
      "   -------------- ------------------------- 36.1/99.8 MB 7.2 MB/s eta 0:00:09\n",
      "   -------------- ------------------------- 36.6/99.8 MB 7.2 MB/s eta 0:00:09\n",
      "   -------------- ------------------------- 37.0/99.8 MB 7.1 MB/s eta 0:00:09\n",
      "   -------------- ------------------------- 37.3/99.8 MB 7.0 MB/s eta 0:00:09\n",
      "   --------------- ------------------------ 37.7/99.8 MB 7.3 MB/s eta 0:00:09\n",
      "   --------------- ------------------------ 38.0/99.8 MB 7.4 MB/s eta 0:00:09\n",
      "   --------------- ------------------------ 38.5/99.8 MB 7.3 MB/s eta 0:00:09\n",
      "   --------------- ------------------------ 38.9/99.8 MB 7.3 MB/s eta 0:00:09\n",
      "   --------------- ------------------------ 39.2/99.8 MB 7.4 MB/s eta 0:00:09\n",
      "   --------------- ------------------------ 39.6/99.8 MB 7.4 MB/s eta 0:00:09\n",
      "   --------------- ------------------------ 39.8/99.8 MB 7.4 MB/s eta 0:00:09\n",
      "   ---------------- ----------------------- 40.3/99.8 MB 7.3 MB/s eta 0:00:09\n",
      "   ---------------- ----------------------- 40.6/99.8 MB 7.2 MB/s eta 0:00:09\n",
      "   ---------------- ----------------------- 41.0/99.8 MB 7.2 MB/s eta 0:00:09\n",
      "   ---------------- ----------------------- 41.3/99.8 MB 7.0 MB/s eta 0:00:09\n",
      "   ---------------- ----------------------- 41.8/99.8 MB 7.0 MB/s eta 0:00:09\n",
      "   ---------------- ----------------------- 42.0/99.8 MB 6.9 MB/s eta 0:00:09\n",
      "   ---------------- ----------------------- 42.3/99.8 MB 6.7 MB/s eta 0:00:09\n",
      "   ----------------- ---------------------- 42.7/99.8 MB 6.8 MB/s eta 0:00:09\n",
      "   ----------------- ---------------------- 43.1/99.8 MB 6.7 MB/s eta 0:00:09\n",
      "   ----------------- ---------------------- 43.4/99.8 MB 6.7 MB/s eta 0:00:09\n",
      "   ----------------- ---------------------- 43.7/99.8 MB 6.6 MB/s eta 0:00:09\n",
      "   ----------------- ---------------------- 44.0/99.8 MB 6.7 MB/s eta 0:00:09\n",
      "   ----------------- ---------------------- 44.3/99.8 MB 6.6 MB/s eta 0:00:09\n",
      "   ----------------- ---------------------- 44.6/99.8 MB 6.5 MB/s eta 0:00:09\n",
      "   ----------------- ---------------------- 44.9/99.8 MB 6.5 MB/s eta 0:00:09\n",
      "   ------------------ --------------------- 45.3/99.8 MB 6.5 MB/s eta 0:00:09\n",
      "   ------------------ --------------------- 45.5/99.8 MB 6.4 MB/s eta 0:00:09\n",
      "   ------------------ --------------------- 45.9/99.8 MB 6.4 MB/s eta 0:00:09\n",
      "   ------------------ --------------------- 46.3/99.8 MB 6.4 MB/s eta 0:00:09\n",
      "   ------------------ --------------------- 46.7/99.8 MB 6.4 MB/s eta 0:00:09\n",
      "   ------------------ --------------------- 47.1/99.8 MB 6.4 MB/s eta 0:00:09\n",
      "   ------------------- -------------------- 47.4/99.8 MB 6.4 MB/s eta 0:00:09\n",
      "   ------------------- -------------------- 47.8/99.8 MB 6.3 MB/s eta 0:00:09\n",
      "   ------------------- -------------------- 48.2/99.8 MB 6.3 MB/s eta 0:00:09\n",
      "   ------------------- -------------------- 48.5/99.8 MB 6.2 MB/s eta 0:00:09\n",
      "   ------------------- -------------------- 48.8/99.8 MB 6.1 MB/s eta 0:00:09\n",
      "   ------------------- -------------------- 49.1/99.8 MB 6.1 MB/s eta 0:00:09\n",
      "   ------------------- -------------------- 49.5/99.8 MB 6.1 MB/s eta 0:00:09\n",
      "   ------------------- -------------------- 49.7/99.8 MB 6.0 MB/s eta 0:00:09\n",
      "   -------------------- ------------------- 50.0/99.8 MB 6.0 MB/s eta 0:00:09\n",
      "   -------------------- ------------------- 50.3/99.8 MB 6.1 MB/s eta 0:00:09\n",
      "   -------------------- ------------------- 50.7/99.8 MB 6.0 MB/s eta 0:00:09\n",
      "   -------------------- ------------------- 51.0/99.8 MB 6.1 MB/s eta 0:00:09\n",
      "   -------------------- ------------------- 51.2/99.8 MB 6.1 MB/s eta 0:00:08\n",
      "   -------------------- ------------------- 51.5/99.8 MB 6.1 MB/s eta 0:00:08\n",
      "   -------------------- ------------------- 51.9/99.8 MB 6.1 MB/s eta 0:00:08\n",
      "   -------------------- ------------------- 52.3/99.8 MB 6.2 MB/s eta 0:00:08\n",
      "   --------------------- ------------------ 52.7/99.8 MB 6.4 MB/s eta 0:00:08\n",
      "   --------------------- ------------------ 52.9/99.8 MB 6.2 MB/s eta 0:00:08\n",
      "   --------------------- ------------------ 53.3/99.8 MB 6.4 MB/s eta 0:00:08\n",
      "   --------------------- ------------------ 53.6/99.8 MB 6.4 MB/s eta 0:00:08\n",
      "   --------------------- ------------------ 54.0/99.8 MB 6.4 MB/s eta 0:00:08\n",
      "   --------------------- ------------------ 54.4/99.8 MB 6.5 MB/s eta 0:00:07\n",
      "   --------------------- ------------------ 54.8/99.8 MB 6.5 MB/s eta 0:00:07\n",
      "   ---------------------- ----------------- 55.0/99.8 MB 6.6 MB/s eta 0:00:07\n",
      "   ---------------------- ----------------- 55.4/99.8 MB 6.6 MB/s eta 0:00:07\n",
      "   ---------------------- ----------------- 55.7/99.8 MB 6.7 MB/s eta 0:00:07\n",
      "   ---------------------- ----------------- 56.0/99.8 MB 6.6 MB/s eta 0:00:07\n",
      "   ---------------------- ----------------- 56.5/99.8 MB 6.8 MB/s eta 0:00:07\n",
      "   ---------------------- ----------------- 56.8/99.8 MB 6.8 MB/s eta 0:00:07\n",
      "   ---------------------- ----------------- 57.0/99.8 MB 6.8 MB/s eta 0:00:07\n",
      "   ----------------------- ---------------- 57.4/99.8 MB 6.8 MB/s eta 0:00:07\n",
      "   ----------------------- ---------------- 57.8/99.8 MB 6.9 MB/s eta 0:00:07\n",
      "   ----------------------- ---------------- 58.2/99.8 MB 6.9 MB/s eta 0:00:07\n",
      "   ----------------------- ---------------- 58.6/99.8 MB 7.0 MB/s eta 0:00:06\n",
      "   ----------------------- ---------------- 59.1/99.8 MB 7.0 MB/s eta 0:00:06\n",
      "   ----------------------- ---------------- 59.4/99.8 MB 7.0 MB/s eta 0:00:06\n",
      "   ----------------------- ---------------- 59.8/99.8 MB 7.0 MB/s eta 0:00:06\n",
      "   ------------------------ --------------- 60.1/99.8 MB 7.2 MB/s eta 0:00:06\n",
      "   ------------------------ --------------- 60.7/99.8 MB 7.3 MB/s eta 0:00:06\n",
      "   ------------------------ --------------- 61.1/99.8 MB 7.4 MB/s eta 0:00:06\n",
      "   ------------------------ --------------- 61.5/99.8 MB 7.4 MB/s eta 0:00:06\n",
      "   ------------------------ --------------- 61.9/99.8 MB 7.4 MB/s eta 0:00:06\n",
      "   ------------------------ --------------- 62.1/99.8 MB 7.4 MB/s eta 0:00:06\n",
      "   ------------------------- -------------- 62.5/99.8 MB 7.4 MB/s eta 0:00:06\n",
      "   ------------------------- -------------- 62.9/99.8 MB 7.3 MB/s eta 0:00:06\n",
      "   ------------------------- -------------- 63.3/99.8 MB 7.5 MB/s eta 0:00:05\n",
      "   ------------------------- -------------- 63.5/99.8 MB 7.4 MB/s eta 0:00:05\n",
      "   ------------------------- -------------- 64.0/99.8 MB 7.5 MB/s eta 0:00:05\n",
      "   ------------------------- -------------- 64.3/99.8 MB 7.4 MB/s eta 0:00:05\n",
      "   ------------------------- -------------- 64.7/99.8 MB 7.5 MB/s eta 0:00:05\n",
      "   -------------------------- ------------- 65.1/99.8 MB 7.4 MB/s eta 0:00:05\n",
      "   -------------------------- ------------- 65.7/99.8 MB 7.7 MB/s eta 0:00:05\n",
      "   -------------------------- ------------- 66.3/99.8 MB 7.7 MB/s eta 0:00:05\n",
      "   -------------------------- ------------- 66.8/99.8 MB 7.7 MB/s eta 0:00:05\n",
      "   -------------------------- ------------- 67.3/99.8 MB 7.9 MB/s eta 0:00:05\n",
      "   --------------------------- ------------ 67.7/99.8 MB 8.0 MB/s eta 0:00:05\n",
      "   --------------------------- ------------ 68.1/99.8 MB 8.0 MB/s eta 0:00:04\n",
      "   --------------------------- ------------ 68.7/99.8 MB 8.0 MB/s eta 0:00:04\n",
      "   --------------------------- ------------ 69.0/99.8 MB 8.1 MB/s eta 0:00:04\n",
      "   --------------------------- ------------ 69.4/99.8 MB 8.1 MB/s eta 0:00:04\n",
      "   ---------------------------- ----------- 70.1/99.8 MB 8.1 MB/s eta 0:00:04\n",
      "   ---------------------------- ----------- 70.5/99.8 MB 8.1 MB/s eta 0:00:04\n",
      "   ---------------------------- ----------- 71.1/99.8 MB 8.2 MB/s eta 0:00:04\n",
      "   ---------------------------- ----------- 71.5/99.8 MB 8.3 MB/s eta 0:00:04\n",
      "   ---------------------------- ----------- 72.0/99.8 MB 8.2 MB/s eta 0:00:04\n",
      "   ---------------------------- ----------- 72.3/99.8 MB 8.3 MB/s eta 0:00:04\n",
      "   ----------------------------- ---------- 72.8/99.8 MB 8.4 MB/s eta 0:00:04\n",
      "   ----------------------------- ---------- 73.1/99.8 MB 8.3 MB/s eta 0:00:04\n",
      "   ----------------------------- ---------- 73.5/99.8 MB 8.4 MB/s eta 0:00:04\n",
      "   ----------------------------- ---------- 73.8/99.8 MB 8.4 MB/s eta 0:00:04\n",
      "   ----------------------------- ---------- 74.0/99.8 MB 8.3 MB/s eta 0:00:04\n",
      "   ----------------------------- ---------- 74.4/99.8 MB 8.1 MB/s eta 0:00:04\n",
      "   ----------------------------- ---------- 74.6/99.8 MB 8.1 MB/s eta 0:00:04\n",
      "   ------------------------------ --------- 75.0/99.8 MB 8.0 MB/s eta 0:00:04\n",
      "   ------------------------------ --------- 75.4/99.8 MB 8.1 MB/s eta 0:00:04\n",
      "   ------------------------------ --------- 75.7/99.8 MB 7.9 MB/s eta 0:00:04\n",
      "   ------------------------------ --------- 76.1/99.8 MB 7.9 MB/s eta 0:00:03\n",
      "   ------------------------------ --------- 76.4/99.8 MB 7.8 MB/s eta 0:00:03\n",
      "   ------------------------------ --------- 76.7/99.8 MB 7.7 MB/s eta 0:00:03\n",
      "   ------------------------------ --------- 77.0/99.8 MB 7.7 MB/s eta 0:00:03\n",
      "   ------------------------------- -------- 77.4/99.8 MB 7.8 MB/s eta 0:00:03\n",
      "   ------------------------------- -------- 77.7/99.8 MB 7.6 MB/s eta 0:00:03\n",
      "   ------------------------------- -------- 78.1/99.8 MB 7.5 MB/s eta 0:00:03\n",
      "   ------------------------------- -------- 78.5/99.8 MB 7.5 MB/s eta 0:00:03\n",
      "   ------------------------------- -------- 78.8/99.8 MB 7.5 MB/s eta 0:00:03\n",
      "   ------------------------------- -------- 79.3/99.8 MB 7.6 MB/s eta 0:00:03\n",
      "   ------------------------------- -------- 79.6/99.8 MB 7.5 MB/s eta 0:00:03\n",
      "   -------------------------------- ------- 79.9/99.8 MB 7.5 MB/s eta 0:00:03\n",
      "   -------------------------------- ------- 80.4/99.8 MB 7.5 MB/s eta 0:00:03\n",
      "   -------------------------------- ------- 80.7/99.8 MB 7.5 MB/s eta 0:00:03\n",
      "   -------------------------------- ------- 80.9/99.8 MB 7.4 MB/s eta 0:00:03\n",
      "   -------------------------------- ------- 81.1/99.8 MB 7.2 MB/s eta 0:00:03\n",
      "   -------------------------------- ------- 81.4/99.8 MB 7.1 MB/s eta 0:00:03\n",
      "   -------------------------------- ------- 81.9/99.8 MB 7.1 MB/s eta 0:00:03\n",
      "   -------------------------------- ------- 82.1/99.8 MB 7.0 MB/s eta 0:00:03\n",
      "   --------------------------------- ------ 82.6/99.8 MB 7.0 MB/s eta 0:00:03\n",
      "   --------------------------------- ------ 83.0/99.8 MB 7.0 MB/s eta 0:00:03\n",
      "   --------------------------------- ------ 83.6/99.8 MB 7.0 MB/s eta 0:00:03\n",
      "   --------------------------------- ------ 83.9/99.8 MB 7.1 MB/s eta 0:00:03\n",
      "   --------------------------------- ------ 84.3/99.8 MB 7.3 MB/s eta 0:00:03\n",
      "   --------------------------------- ------ 84.7/99.8 MB 7.3 MB/s eta 0:00:03\n",
      "   ---------------------------------- ----- 85.0/99.8 MB 7.3 MB/s eta 0:00:03\n",
      "   ---------------------------------- ----- 85.5/99.8 MB 7.3 MB/s eta 0:00:02\n",
      "   ---------------------------------- ----- 85.8/99.8 MB 7.4 MB/s eta 0:00:02\n",
      "   ---------------------------------- ----- 86.3/99.8 MB 7.4 MB/s eta 0:00:02\n",
      "   ---------------------------------- ----- 86.6/99.8 MB 7.4 MB/s eta 0:00:02\n",
      "   ---------------------------------- ----- 86.8/99.8 MB 7.4 MB/s eta 0:00:02\n",
      "   ---------------------------------- ----- 87.2/99.8 MB 7.3 MB/s eta 0:00:02\n",
      "   ----------------------------------- ---- 87.5/99.8 MB 7.3 MB/s eta 0:00:02\n",
      "   ----------------------------------- ---- 87.6/99.8 MB 7.3 MB/s eta 0:00:02\n",
      "   ----------------------------------- ---- 87.7/99.8 MB 7.0 MB/s eta 0:00:02\n",
      "   ----------------------------------- ---- 87.9/99.8 MB 6.8 MB/s eta 0:00:02\n",
      "   ----------------------------------- ---- 88.2/99.8 MB 6.8 MB/s eta 0:00:02\n",
      "   ----------------------------------- ---- 88.5/99.8 MB 6.8 MB/s eta 0:00:02\n",
      "   ----------------------------------- ---- 88.9/99.8 MB 6.8 MB/s eta 0:00:02\n",
      "   ----------------------------------- ---- 89.2/99.8 MB 6.6 MB/s eta 0:00:02\n",
      "   ----------------------------------- ---- 89.5/99.8 MB 6.7 MB/s eta 0:00:02\n",
      "   ------------------------------------ --- 89.9/99.8 MB 6.6 MB/s eta 0:00:02\n",
      "   ------------------------------------ --- 90.2/99.8 MB 6.6 MB/s eta 0:00:02\n",
      "   ------------------------------------ --- 90.6/99.8 MB 6.5 MB/s eta 0:00:02\n",
      "   ------------------------------------ --- 90.8/99.8 MB 6.5 MB/s eta 0:00:02\n",
      "   ------------------------------------ --- 91.2/99.8 MB 6.5 MB/s eta 0:00:02\n",
      "   ------------------------------------ --- 91.6/99.8 MB 6.7 MB/s eta 0:00:02\n",
      "   ------------------------------------ --- 91.9/99.8 MB 6.7 MB/s eta 0:00:02\n",
      "   ------------------------------------ --- 92.2/99.8 MB 6.7 MB/s eta 0:00:02\n",
      "   ------------------------------------- -- 92.6/99.8 MB 6.7 MB/s eta 0:00:02\n",
      "   ------------------------------------- -- 93.0/99.8 MB 6.6 MB/s eta 0:00:02\n",
      "   ------------------------------------- -- 93.2/99.8 MB 6.5 MB/s eta 0:00:02\n",
      "   ------------------------------------- -- 93.6/99.8 MB 6.5 MB/s eta 0:00:01\n",
      "   ------------------------------------- -- 93.9/99.8 MB 6.4 MB/s eta 0:00:01\n",
      "   ------------------------------------- -- 94.2/99.8 MB 6.4 MB/s eta 0:00:01\n",
      "   ------------------------------------- -- 94.5/99.8 MB 6.4 MB/s eta 0:00:01\n",
      "   -------------------------------------- - 94.9/99.8 MB 6.3 MB/s eta 0:00:01\n",
      "   -------------------------------------- - 95.2/99.8 MB 6.4 MB/s eta 0:00:01\n",
      "   -------------------------------------- - 95.5/99.8 MB 6.2 MB/s eta 0:00:01\n",
      "   -------------------------------------- - 95.8/99.8 MB 6.2 MB/s eta 0:00:01\n",
      "   -------------------------------------- - 96.0/99.8 MB 6.2 MB/s eta 0:00:01\n",
      "   -------------------------------------- - 96.3/99.8 MB 6.1 MB/s eta 0:00:01\n",
      "   -------------------------------------- - 96.9/99.8 MB 6.1 MB/s eta 0:00:01\n",
      "   -------------------------------------- - 97.2/99.8 MB 6.2 MB/s eta 0:00:01\n",
      "   ---------------------------------------  97.6/99.8 MB 6.2 MB/s eta 0:00:01\n",
      "   ---------------------------------------  98.0/99.8 MB 6.5 MB/s eta 0:00:01\n",
      "   ---------------------------------------  98.3/99.8 MB 6.5 MB/s eta 0:00:01\n",
      "   ---------------------------------------  98.7/99.8 MB 6.6 MB/s eta 0:00:01\n",
      "   ---------------------------------------  99.1/99.8 MB 6.8 MB/s eta 0:00:01\n",
      "   ---------------------------------------  99.4/99.8 MB 6.6 MB/s eta 0:00:01\n",
      "   ---------------------------------------  99.7/99.8 MB 6.6 MB/s eta 0:00:01\n",
      "   ---------------------------------------  99.7/99.8 MB 6.6 MB/s eta 0:00:01\n",
      "   ---------------------------------------  99.7/99.8 MB 6.6 MB/s eta 0:00:01\n",
      "   ---------------------------------------  99.7/99.8 MB 6.6 MB/s eta 0:00:01\n",
      "   ---------------------------------------  99.7/99.8 MB 6.6 MB/s eta 0:00:01\n",
      "   ---------------------------------------  99.7/99.8 MB 6.6 MB/s eta 0:00:01\n",
      "   ---------------------------------------  99.7/99.8 MB 6.6 MB/s eta 0:00:01\n",
      "   ---------------------------------------- 99.8/99.8 MB 5.3 MB/s eta 0:00:00\n",
      "Installing collected packages: xgboost\n",
      "Successfully installed xgboost-2.0.3\n",
      "Note: you may need to restart the kernel to use updated packages.\n"
     ]
    },
    {
     "name": "stderr",
     "output_type": "stream",
     "text": [
      "\n",
      "[notice] A new release of pip is available: 23.3.2 -> 24.0\n",
      "[notice] To update, run: python.exe -m pip install --upgrade pip\n"
     ]
    }
   ],
   "source": [
    "%pip install xgboost"
   ]
  },
  {
   "cell_type": "code",
   "execution_count": 16,
   "metadata": {},
   "outputs": [],
   "source": [
    "from xgboost import XGBClassifier"
   ]
  },
  {
   "cell_type": "code",
   "execution_count": 27,
   "metadata": {},
   "outputs": [],
   "source": [
    "xgb = XGBClassifier()\n",
    "\n",
    "xgb.fit(x_train,y_train)\n",
    "\n",
    "y_pred2 = xgb.predict(x_test)"
   ]
  },
  {
   "cell_type": "code",
   "execution_count": 28,
   "metadata": {},
   "outputs": [
    {
     "data": {
      "text/plain": [
       "0.6965669014084507"
      ]
     },
     "execution_count": 28,
     "metadata": {},
     "output_type": "execute_result"
    }
   ],
   "source": [
    "from sklearn.metrics import roc_curve,roc_auc_score\n",
    "#ROC = \"reciever operating charecteristic curve\"\n",
    "#ROC curve summarize the tradeoff between true positives and false positives,\n",
    "#best for balanced datasets. \n",
    "\n",
    "#fpr = flase positive rate\n",
    "\n",
    "fpr,tpr,thresholds = roc_curve(y_test,y_pred2)\n",
    "auc = roc_auc_score(y_test,y_pred2)\n",
    "\n",
    "auc"
   ]
  },
  {
   "cell_type": "code",
   "execution_count": 29,
   "metadata": {},
   "outputs": [
    {
     "data": {
      "text/plain": [
       "Text(0, 0.5, 'true positive rate')"
      ]
     },
     "execution_count": 29,
     "metadata": {},
     "output_type": "execute_result"
    },
    {
     "data": {
      "image/png": "[encoded data removed]",
      "text/plain": [
       "<Figure size 640x480 with 1 Axes>"
      ]
     },
     "metadata": {},
     "output_type": "display_data"
    }
   ],
   "source": [
    "plt.plot(fpr,tpr,marker = '.')\n",
    "plt.xlabel('flase positive rate')\n",
    "plt.ylabel('true positive rate')"
   ]
  },
  {
   "cell_type": "code",
   "execution_count": null,
   "metadata": {},
   "outputs": [],
   "source": []
  }
 ],
 "metadata": {
  "kernelspec": {
   "display_name": "Python 3",
   "language": "python",
   "name": "python3"
  },
  "language_info": {
   "codemirror_mode": {
    "name": "ipython",
    "version": 3
   },
   "file_extension": ".py",
   "mimetype": "text/x-python",
   "name": "python",
   "nbconvert_exporter": "python",
   "pygments_lexer": "ipython3",
   "version": "3.9.1"
  }
 },
 "nbformat": 4,
 "nbformat_minor": 2
}
