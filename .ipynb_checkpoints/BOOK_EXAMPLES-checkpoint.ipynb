{
 "cells": [
  {
   "cell_type": "code",
   "execution_count": 58,
   "id": "8d357d89-8e7b-4014-b662-d06c34608a13",
   "metadata": {},
   "outputs": [],
   "source": [
    "users = [\n",
    "    {\"id\": 0, \"name\":\"hero\"},\n",
    "    {\"id\": 1, \"name\":\"Dunn\"},\n",
    "    {\"id\": 2, \"name\":\"Sue\"},\n",
    "    {\"id\": 3, \"name\":\"Chi\"},\n",
    "    {\"id\": 4, \"name\":\"Thor\"},\n",
    "    {\"id\": 5, \"name\":\"Clive\"},\n",
    "    {\"id\": 6, \"name\":\"Hicks\"},\n",
    "    {\"id\": 7, \"name\":\"Devin\"},\n",
    "    {\"id\": 8, \"name\":\"Kate\"},\n",
    "    {\"id\": 9, \"name\":\"Klein\"}\n",
    "]\n",
    "\n",
    "friendship_pairs = [(0,1), (0,2), (1,2), (1,3), (2,3), (3,4), (4,5), (5,6), (5,7), (6,8), (7,8), (8,9)]"
   ]
  },
  {
   "cell_type": "code",
   "execution_count": 52,
   "id": "618235fc-5c67-4298-a5ea-f7748c0bb651",
   "metadata": {},
   "outputs": [
    {
     "name": "stdout",
     "output_type": "stream",
     "text": [
      "{0: [1, 2], 1: [0, 2, 3], 2: [0, 1, 3], 3: [1, 2, 4], 4: [3, 5], 5: [4, 6, 7], 6: [5, 8], 7: [5, 8], 8: [6, 7, 9], 9: [8]}\n"
     ]
    }
   ],
   "source": [
    "friendships = {user['id']: [] for user in users}\n",
    "\n",
    "for i,j in friendship_pairs:\n",
    "    \n",
    "    friendships[j].append(i)\n",
    "\n",
    "    friendships[i].append(j)\n",
    "\n",
    "print(friendships)"
   ]
  },
  {
   "cell_type": "code",
   "execution_count": 34,
   "id": "b3e67ddd-94be-4ded-9a1d-7cbcb80ec85d",
   "metadata": {},
   "outputs": [],
   "source": [
    "def number_of_friends(user):\n",
    "    \"\"\"how many friends does the _user_ have?\"\"\"\n",
    "\n",
    "    user_id = user['id']\n",
    "\n",
    "    friend_ids = friendships[user_id]\n",
    "\n",
    "    return len(friend_ids)"
   ]
  },
  {
   "cell_type": "code",
   "execution_count": 43,
   "id": "a357f11a-b91c-4a71-bee8-12b51b3a6e7d",
   "metadata": {},
   "outputs": [
    {
     "name": "stdout",
     "output_type": "stream",
     "text": [
      "2.4\n"
     ]
    }
   ],
   "source": [
    "total_connections = sum(number_of_friends(user) for user in users)\n",
    "\n",
    "num_users = len(users)\n",
    "\n",
    "avg_connections = (total_connections / num_users)\n",
    "\n",
    "print(avg_connections)"
   ]
  },
  {
   "cell_type": "code",
   "execution_count": 46,
   "id": "af0167d2-4962-43c1-86d9-9a1aee1af759",
   "metadata": {},
   "outputs": [
    {
     "name": "stdout",
     "output_type": "stream",
     "text": [
      "[(1, 3), (2, 3), (3, 3), (5, 3), (8, 3), (0, 2), (4, 2), (6, 2), (7, 2), (9, 1)]\n"
     ]
    }
   ],
   "source": [
    "num_friends_by_id = [(user['id'], number_of_friends(user)) for user in users]\n",
    "\n",
    "num_friends_by_id.sort(key=lambda id_and_friends: id_and_friends[1], reverse=True)\n",
    "\n",
    "print(num_friends_by_id)"
   ]
  },
  {
   "cell_type": "code",
   "execution_count": 51,
   "id": "f7eb3530-c87f-4f9a-b1ab-edade8f56e20",
   "metadata": {},
   "outputs": [],
   "source": [
    "def foaf_ids_bad(user):\n",
    "    return [foaf_id for friend_id in friendships[user['id']] for foaf_id in friendships[friends_id]]\n"
   ]
  },
  {
   "cell_type": "code",
   "execution_count": 64,
   "id": "05695085-c906-4fca-9899-b435464d2f55",
   "metadata": {},
   "outputs": [
    {
     "name": "stdout",
     "output_type": "stream",
     "text": [
      "{0: [], 1: [0], 2: [0, 1], 3: [1, 2], 4: [3], 5: [4], 6: [5], 7: [5], 8: [6, 7], 9: [8]}\n"
     ]
    }
   ],
   "source": [
    "testing1 = {user['id']: [] for user in users}\n",
    "\n",
    "for j,i in friendship_pairs:\n",
    "\n",
    "    testing1[i].append(j)\n",
    "\n",
    "print(testing1)"
   ]
  },
  {
   "cell_type": "code",
   "execution_count": 92,
   "id": "caf47afe-73c6-4b4b-821c-6944e6c6988c",
   "metadata": {},
   "outputs": [
    {
     "name": "stdout",
     "output_type": "stream",
     "text": [
      "[0, 0, 5]\n"
     ]
    }
   ],
   "source": [
    "# import 'counter'\n",
    "\n",
    "def friends_of_friends(user):\n",
    "    user_id = user['id']\n",
    "\n",
    "    return list( foaf_id \n",
    "                   for friend_id in friendships[user_id] # for each friend\n",
    "                   for foaf_id in friendships[friend_id] # find their friends\n",
    "                   if foaf_id != user_id # not me\n",
    "                   and foaf_id not in friendships[user_id] #not my friends\n",
    "    )\n",
    "print(friends_of_friends(users[3]))"
   ]
  },
  {
   "cell_type": "code",
   "execution_count": 99,
   "id": "567ed0d1-f69d-4822-9c01-d6ccb4d84564",
   "metadata": {},
   "outputs": [
    {
     "ename": "NameError",
     "evalue": "name 'defaultdict' is not defined",
     "output_type": "error",
     "traceback": [
      "\u001b[1;31m---------------------------------------------------------------------------\u001b[0m",
      "\u001b[1;31mNameError\u001b[0m                                 Traceback (most recent call last)",
      "Cell \u001b[1;32mIn[99], line 9\u001b[0m\n\u001b[0;32m      1\u001b[0m salaries_and_experience \u001b[38;5;241m=\u001b[39m [(\u001b[38;5;241m83000\u001b[39m, \u001b[38;5;241m8.7\u001b[39m), (\u001b[38;5;241m88000\u001b[39m, \u001b[38;5;241m8.1\u001b[39m),\n\u001b[0;32m      2\u001b[0m                            (\u001b[38;5;241m48000\u001b[39m, \u001b[38;5;241m.7\u001b[39m),(\u001b[38;5;241m76000\u001b[39m, \u001b[38;5;241m6\u001b[39m),\n\u001b[0;32m      3\u001b[0m                            (\u001b[38;5;241m69000\u001b[39m, \u001b[38;5;241m6.5\u001b[39m),(\u001b[38;5;241m76000\u001b[39m, \u001b[38;5;241m7.5\u001b[39m),\n\u001b[0;32m      4\u001b[0m                            (\u001b[38;5;241m60000\u001b[39m, \u001b[38;5;241m2.5\u001b[39m),(\u001b[38;5;241m83000\u001b[39m, \u001b[38;5;241m10\u001b[39m),\n\u001b[0;32m      5\u001b[0m                            (\u001b[38;5;241m48000\u001b[39m, \u001b[38;5;241m1.9\u001b[39m),(\u001b[38;5;241m63000\u001b[39m, \u001b[38;5;241m4.2\u001b[39m)]\n\u001b[0;32m      7\u001b[0m \u001b[38;5;66;03m#import 'defaultdict' !!!\u001b[39;00m\n\u001b[1;32m----> 9\u001b[0m salary_by_experiene \u001b[38;5;241m=\u001b[39m \u001b[43mdefaultdict\u001b[49m(\u001b[38;5;28mlist\u001b[39m)\n\u001b[0;32m     11\u001b[0m \u001b[38;5;28;01mfor\u001b[39;00m salary,experience \u001b[38;5;129;01min\u001b[39;00m salaries_and_experience:\n\u001b[0;32m     12\u001b[0m     salary_by_experience[experience]\u001b[38;5;241m.\u001b[39mappend(salary)\n",
      "\u001b[1;31mNameError\u001b[0m: name 'defaultdict' is not defined"
     ]
    }
   ],
   "source": [
    "salaries_and_experience = [(83000, 8.7), (88000, 8.1),\n",
    "                           (48000, .7),(76000, 6),\n",
    "                           (69000, 6.5),(76000, 7.5),\n",
    "                           (60000, 2.5),(83000, 10),\n",
    "                           (48000, 1.9),(63000, 4.2)]\n",
    "\n",
    "#import 'defaultdict' !!!\n",
    "\n",
    "salary_by_experiene = defaultdict(list)\n",
    "\n",
    "for salary,experience in salaries_and_experience:\n",
    "    salary_by_experience[experience].append(salary)\n",
    "\n",
    "average_salary_by_experience = {\n",
    "    experience: sum(salaries)/ len(salaries)\n",
    "    for experience,salaries in salary_by_experience.items()\n",
    "}"
   ]
  },
  {
   "cell_type": "code",
   "execution_count": 100,
   "id": "131a5bcf-a749-44c0-b511-972cfb7caa56",
   "metadata": {},
   "outputs": [],
   "source": [
    "def experience_bucket(experience):\n",
    "    if experience < 2:\n",
    "        return('less then 2')\n",
    "    elif experience < 5:\n",
    "        return('less then 5')\n",
    "    else:\n",
    "        return('more then 5')"
   ]
  },
  {
   "cell_type": "code",
   "execution_count": 102,
   "id": "84639f4d-3b71-4119-99a9-a6a1496484a1",
   "metadata": {},
   "outputs": [
    {
     "ename": "NameError",
     "evalue": "name 'defaultdict' is not defined",
     "output_type": "error",
     "traceback": [
      "\u001b[1;31m---------------------------------------------------------------------------\u001b[0m",
      "\u001b[1;31mNameError\u001b[0m                                 Traceback (most recent call last)",
      "Cell \u001b[1;32mIn[102], line 3\u001b[0m\n\u001b[0;32m      1\u001b[0m \u001b[38;5;66;03m#again import 'defaultdict' !!!\u001b[39;00m\n\u001b[1;32m----> 3\u001b[0m salary_by_experience_bucket \u001b[38;5;241m=\u001b[39m \u001b[43mdefaultdict\u001b[49m(\u001b[38;5;28mlist\u001b[39m)\n\u001b[0;32m      5\u001b[0m \u001b[38;5;28;01mfor\u001b[39;00m salary, experience \u001b[38;5;129;01min\u001b[39;00m salaries_and_experience:\n\u001b[0;32m      6\u001b[0m     bucket \u001b[38;5;241m=\u001b[39m experience_bucket(experience)\n",
      "\u001b[1;31mNameError\u001b[0m: name 'defaultdict' is not defined"
     ]
    }
   ],
   "source": [
    "#again import 'defaultdict' !!!\n",
    "\n",
    "salary_by_experience_bucket = defaultdict(list)\n",
    "\n",
    "for salary, experience in salaries_and_experience:\n",
    "    bucket = experience_bucket(experience)\n",
    "    salary_by_experience_bucket[bucket].append(salary)\n"
   ]
  },
  {
   "cell_type": "code",
   "execution_count": 1,
   "id": "8c317e7a-76fd-4025-9eb5-4ad523ea0d9d",
   "metadata": {},
   "outputs": [
    {
     "ename": "SyntaxError",
     "evalue": "invalid syntax (3191277300.py, line 1)",
     "output_type": "error",
     "traceback": [
      "\u001b[1;36m  Cell \u001b[1;32mIn[1], line 1\u001b[1;36m\u001b[0m\n\u001b[1;33m    help(return)\u001b[0m\n\u001b[1;37m         ^\u001b[0m\n\u001b[1;31mSyntaxError\u001b[0m\u001b[1;31m:\u001b[0m invalid syntax\n"
     ]
    }
   ],
   "source": []
  },
  {
   "cell_type": "code",
   "execution_count": null,
   "id": "5d8e02c6-428f-475b-b48e-c3fd2bdc1832",
   "metadata": {},
   "outputs": [],
   "source": []
  }
 ],
 "metadata": {
  "kernelspec": {
   "display_name": "Python 3 (ipykernel)",
   "language": "python",
   "name": "python3"
  },
  "language_info": {
   "codemirror_mode": {
    "name": "ipython",
    "version": 3
   },
   "file_extension": ".py",
   "mimetype": "text/x-python",
   "name": "python",
   "nbconvert_exporter": "python",
   "pygments_lexer": "ipython3",
   "version": "3.9.1rc1"
  }
 },
 "nbformat": 4,
 "nbformat_minor": 5
}
