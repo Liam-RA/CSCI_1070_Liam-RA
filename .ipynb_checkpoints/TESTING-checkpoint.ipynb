{
 "cells": [
  {
   "cell_type": "code",
   "execution_count": 3,
   "id": "851c3667-f62b-4408-a739-d0ffb98f7555",
   "metadata": {},
   "outputs": [],
   "source": [
    "def double_function(a):\n",
    "    a = int(input())\n",
    "\n",
    "    a*2"
   ]
  },
  {
   "cell_type": "code",
   "execution_count": 4,
   "id": "0daead9c-983c-4c43-b8d2-371b0b0d54db",
   "metadata": {},
   "outputs": [
    {
     "name": "stdin",
     "output_type": "stream",
     "text": [
      " 2\n"
     ]
    },
    {
     "data": {
      "text/plain": [
       "4"
      ]
     },
     "execution_count": 4,
     "metadata": {},
     "output_type": "execute_result"
    }
   ],
   "source": [
    "a = int(input())\n",
    "\n",
    "a*2"
   ]
  },
  {
   "cell_type": "code",
   "execution_count": 5,
   "id": "a405e8a5-afe2-43cc-9b03-15e9f228e86b",
   "metadata": {},
   "outputs": [],
   "source": [
    "def double_function(a):\n",
    "    a = int(input())\n",
    "\n",
    "    a*2"
   ]
  },
  {
   "cell_type": "code",
   "execution_count": 17,
   "id": "56856caf-c72f-45ad-a70a-200713c4ef07",
   "metadata": {},
   "outputs": [
    {
     "name": "stdout",
     "output_type": "stream",
     "text": [
      "bad\n"
     ]
    }
   ],
   "source": [
    "some_list = ()\n",
    "\n",
    "if some_list:\n",
    "    print('good')\n",
    "else:\n",
    "    print('bad')"
   ]
  },
  {
   "cell_type": "code",
   "execution_count": 27,
   "id": "83ab28cc-205c-4bbb-b590-b60ec46fa702",
   "metadata": {},
   "outputs": [
    {
     "name": "stdout",
     "output_type": "stream",
     "text": [
      "84\n",
      "749\n",
      "203\n",
      "84\n",
      "574\n",
      "168\n"
     ]
    }
   ],
   "source": [
    "import random\n",
    "integers_list = [random.randint(0,1000) for i in range(50)]\n",
    "\n",
    "for i in integers_list:\n",
    "    if i % 7 == 0:\n",
    "        print(i)"
   ]
  },
  {
   "cell_type": "code",
   "execution_count": 22,
   "id": "7c8010c7-0406-48a6-a217-fd8bf2f93c09",
   "metadata": {},
   "outputs": [
    {
     "name": "stdout",
     "output_type": "stream",
     "text": [
      "Help on method randint in module random:\n",
      "\n",
      "randint(a, b) method of random.Random instance\n",
      "    Return random integer in range [a, b], including both end points.\n",
      "\n"
     ]
    }
   ],
   "source": [
    "help(random.randint)"
   ]
  },
  {
   "cell_type": "code",
   "execution_count": 2,
   "id": "5850f880-719a-4a0f-9bd1-c1d7b25e5779",
   "metadata": {},
   "outputs": [
    {
     "name": "stdout",
     "output_type": "stream",
     "text": [
      "bar\n"
     ]
    }
   ],
   "source": [
    "foo = 'bar'\n",
    "\n",
    "print(foo)"
   ]
  },
  {
   "cell_type": "code",
   "execution_count": 10,
   "id": "92715094-3b79-4be7-9846-972646fff039",
   "metadata": {},
   "outputs": [
    {
     "name": "stdout",
     "output_type": "stream",
     "text": [
      "name1 = 314-977-4000, name2 = 314-977-3000\n"
     ]
    }
   ],
   "source": [
    "contact_book = 'name1 = {0}, name2 = {1}'.format('314-977-4000', '314-977-3000')\n",
    "\n",
    "print(contact_book)"
   ]
  },
  {
   "cell_type": "code",
   "execution_count": 12,
   "id": "d86fe689-d0c4-463f-b080-9acfd223dff2",
   "metadata": {},
   "outputs": [
    {
     "name": "stdout",
     "output_type": "stream",
     "text": [
      ",\n"
     ]
    }
   ],
   "source": [
    "print(contact_book[20])"
   ]
  },
  {
   "cell_type": "code",
   "execution_count": 6,
   "id": "b100ea21-c5b7-4220-b1a2-cb768d272761",
   "metadata": {},
   "outputs": [
    {
     "name": "stdout",
     "output_type": "stream",
     "text": [
      "[-14, 10, 8, -5, -4, -2, 2]\n"
     ]
    }
   ],
   "source": [
    "x = sorted([-14,-4,-2,-5,2,10,8],key=abs ,reverse=True)\n",
    "\n",
    "print(x)"
   ]
  },
  {
   "cell_type": "code",
   "execution_count": 10,
   "id": "cab62667-4301-4438-898b-c9edc9e1ce89",
   "metadata": {},
   "outputs": [
    {
     "name": "stdout",
     "output_type": "stream",
     "text": [
      "['txt', 'test', 'arrow', 'abc']\n"
     ]
    }
   ],
   "source": [
    "wc = sorted(['abc', 'txt', 'test', 'arrow'])\n",
    "\n",
    "print(wc)"
   ]
  },
  {
   "cell_type": "code",
   "execution_count": 20,
   "id": "c97abc0d-b66d-400d-9f8a-7142b41914cb",
   "metadata": {},
   "outputs": [
    {
     "name": "stdout",
     "output_type": "stream",
     "text": [
      "[1, 4, 5, 45, 98, 122]\n"
     ]
    }
   ],
   "source": [
    "sect = sorted({1,1,4,5,98,45,122},key=abs)\n",
    "\n",
    "print(sect)"
   ]
  },
  {
   "cell_type": "code",
   "execution_count": 18,
   "id": "32804fb6-485a-4052-a11e-2243ee86d1da",
   "metadata": {},
   "outputs": [
    {
     "data": {
      "text/plain": [
       "set"
      ]
     },
     "execution_count": 18,
     "metadata": {},
     "output_type": "execute_result"
    }
   ],
   "source": [
    "s = {1,2,6,54,12,888,124}\n",
    "\n",
    "type(s)"
   ]
  },
  {
   "cell_type": "code",
   "execution_count": 21,
   "id": "857e3b95-4638-4980-8b82-83f2255cf6e1",
   "metadata": {},
   "outputs": [
    {
     "ename": "SyntaxError",
     "evalue": "invalid syntax (670488139.py, line 1)",
     "output_type": "error",
     "traceback": [
      "\u001b[1;36m  Cell \u001b[1;32mIn[21], line 1\u001b[1;36m\u001b[0m\n\u001b[1;33m    help(lambda)\u001b[0m\n\u001b[1;37m               ^\u001b[0m\n\u001b[1;31mSyntaxError\u001b[0m\u001b[1;31m:\u001b[0m invalid syntax\n"
     ]
    }
   ],
   "source": []
  },
  {
   "cell_type": "code",
   "execution_count": null,
   "id": "cb8e6fec-584a-469e-bcc5-7da69a6157c3",
   "metadata": {},
   "outputs": [],
   "source": []
  }
 ],
 "metadata": {
  "kernelspec": {
   "display_name": "Python 3 (ipykernel)",
   "language": "python",
   "name": "python3"
  },
  "language_info": {
   "codemirror_mode": {
    "name": "ipython",
    "version": 3
   },
   "file_extension": ".py",
   "mimetype": "text/x-python",
   "name": "python",
   "nbconvert_exporter": "python",
   "pygments_lexer": "ipython3",
   "version": "3.9.1rc1"
  }
 },
 "nbformat": 4,
 "nbformat_minor": 5
}
