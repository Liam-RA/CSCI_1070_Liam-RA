{
 "cells": [
  {
   "cell_type": "markdown",
   "id": "4d7e762c-9fc0-4cd3-b0db-89ca17152808",
   "metadata": {},
   "source": [
    "### Homework 2\n",
    "#### Loops, Functions and Classes\n",
    "\n",
    "1. Do this homework **in order**. \n",
    "2. Be sure to have a solid understanding of Functions before working with Classes.\n",
    "\n",
    "In general, I don't expect deep knowledge of classes in this class. What's covered here is roughly the extent of it. Remember, classes are a tricky concept to master in programming, but they are more straightforward in Python than many other languages. \n",
    "\n",
    "Also, do not hesitate to reach out to me for help! When I first learned to program the concepts covered in assignments like this blew my mind. If you find this difficult, you are not alone! I was once in the same boat as well. "
   ]
  },
  {
   "cell_type": "markdown",
   "id": "691e2265-ff44-4748-b16e-d0a407370fb9",
   "metadata": {},
   "source": [
    "1. (2 pts) Loop through the string and eliminate all the asterisks."
   ]
  },
  {
   "cell_type": "code",
   "execution_count": 9,
   "id": "ae0d2ee2-4281-49ad-84f2-c2abad57067d",
   "metadata": {},
   "outputs": [
    {
     "name": "stdout",
     "output_type": "stream",
     "text": [
      "My computer has gone crazy and added extra symbols.\n"
     ]
    }
   ],
   "source": [
    "asterisk = 'My *compu*ter has go*ne craz***y an*d add*ed extra *symbols.*'\n",
    "\n",
    "while '*' in asterisk:\n",
    "    for _ in asterisk:\n",
    "        if '*' in _:\n",
    "            asterisk = asterisk.replace(_,'')\n",
    "\n",
    "print(asterisk)"
   ]
  },
  {
   "cell_type": "markdown",
   "id": "bdec3ba8-5372-4ad9-a03b-580c04e3a431",
   "metadata": {},
   "source": [
    "2. (1 pt) Write a while loop that increments counter until it reaches 7."
   ]
  },
  {
   "cell_type": "code",
   "execution_count": 3,
   "id": "e333acd1-7e6a-4c8b-a51f-3fba6492bcc9",
   "metadata": {},
   "outputs": [
    {
     "name": "stdout",
     "output_type": "stream",
     "text": [
      "0\n",
      "1\n",
      "2\n",
      "3\n",
      "4\n",
      "5\n",
      "6\n",
      "7\n"
     ]
    }
   ],
   "source": [
    "counter = 0\n",
    "\n",
    "while counter <= 7:\n",
    "    \n",
    "    print(counter)\n",
    "    \n",
    "    counter +=1"
   ]
  },
  {
   "cell_type": "markdown",
   "id": "f5d8735c-5da0-47e3-a2a5-2d99561e6ce9",
   "metadata": {},
   "source": [
    "3. (3 pts) Loop over double_trouble and eliminate any 'mosquito'.\n",
    "\n",
    "Hint: check if the type of an element you are iterating through is a list. If so, iterate through it. [isinstance()](https://docs.python.org/3.4/library/functions.html#isinstance) is a good function for this. You can also use type() but its a bit odd here. "
   ]
  },
  {
   "cell_type": "code",
   "execution_count": 7,
   "id": "87d2d239-27ef-4ba8-a462-4e03967b359f",
   "metadata": {},
   "outputs": [
    {
     "name": "stdout",
     "output_type": "stream",
     "text": [
      "['cat', 'dog', ['mouse', 'bat'], ['elephant', 'dog', 'whale', 'lion', 32], 'bird', []]\n"
     ]
    }
   ],
   "source": [
    "double_trouble = ['cat','dog', ['mouse','mosquito','bat','mosquito'],['elephant','dog','whale','lion',32,'mosquito'],'bird',[],'mosquito']\n",
    "\n",
    "for i in double_trouble:\n",
    "    if type(i) == list:\n",
    "        for j in i:\n",
    "            if j == 'mosquito':\n",
    "                i.remove(j)\n",
    "    else:\n",
    "        if i == 'mosquito':\n",
    "            double_trouble.remove(i)\n",
    "\n",
    "print(double_trouble)\n",
    " # this only goes 2 layers deep and wouldnt work if there was a list whithin a list whithin a list, ect..."
   ]
  },
  {
   "cell_type": "markdown",
   "id": "bddaa2d7-917a-4c11-8ccc-10b926539945",
   "metadata": {},
   "source": [
    "4. (3 pts) Create a function that takes in two numbers.\n",
    "If the numbers are both even add them and return the result.\n",
    "\n",
    "If the numbers are odd, subtract the second number from the first and return the result.\n",
    "\n",
    "(Assume you'll always get integers and if you dont, return a message indicating the input is wrong)"
   ]
  },
  {
   "cell_type": "code",
   "execution_count": 29,
   "id": "7cf1850c-b7a4-4d13-8488-1ffd269fa79b",
   "metadata": {},
   "outputs": [
    {
     "name": "stdout",
     "output_type": "stream",
     "text": [
      "10\n"
     ]
    }
   ],
   "source": [
    "def double_evens(x,y):\n",
    "    try:\n",
    "        if type(x) == int and type(y) == int:\n",
    "            if x % 2 == 1 and y % 2 == 1:\n",
    "                print(x-y)\n",
    "            elif x % 2 == 0 and y % 2 == 0:\n",
    "                print(x+y)\n",
    "            else:\n",
    "                print('please input two even or odd integers')\n",
    "    except ValueError:\n",
    "        print('please input integers')\n",
    "\n",
    "double_evens(4,6)"
   ]
  },
  {
   "cell_type": "markdown",
   "id": "4fe68a99-b731-4768-804f-87a81099581d",
   "metadata": {},
   "source": [
    "5. (5 pts) Create a function that prints a triangle of asterisks as below. \n",
    "The function accepts n as an integer and makes the longest leg of the triangle that length, decrementing by one until you close the triangle. The function also accepts a direction for the triangle as a variable. If you pass in \"base-up\" it returns the first, but \"base-down\" returns the second.\n",
    "For example, for a triangle where n = 5, the following would be produced:"
   ]
  },
  {
   "cell_type": "code",
   "execution_count": 31,
   "id": "989783e2-c5a8-4eb8-9b27-69c26863f89b",
   "metadata": {},
   "outputs": [
    {
     "name": "stdout",
     "output_type": "stream",
     "text": [
      "* * * * * * * * * \n",
      "* * * * * * * * \n",
      "* * * * * * * \n",
      "* * * * * * \n",
      "* * * * * \n",
      "* * * * \n",
      "* * * \n",
      "* * \n",
      "* \n"
     ]
    }
   ],
   "source": [
    "def triangles(n,direction):\n",
    "    try:\n",
    "        if direction == 'Base-down triangle':\n",
    "\n",
    "            triangle_size = '* '\n",
    "            \n",
    "            while not n == 0:\n",
    "                print(triangle_size*n)\n",
    "                n -= 1\n",
    "            \n",
    "        elif direction == 'Base-up triangle':\n",
    "            triangle_size = '* '\n",
    "            _ = 0\n",
    "    \n",
    "            while _ <= n:\n",
    "                _ += 1\n",
    "                print(triangle_size*_)\n",
    "        else:\n",
    "            print('please choose either \"Base-up triange\" or \"Base-down triangle\"')\n",
    "            \n",
    "    except SyntaxError:\n",
    "        print(' please enter either, \"Base-down triangle\" or \"Base-up triangle\"')\n",
    "\n",
    "triangles(9,'Base-down triangle')"
   ]
  },
  {
   "cell_type": "markdown",
   "id": "9cbe4104-769f-49c0-94d8-8c9750f941bc",
   "metadata": {},
   "source": [
    "6. (3 pts) Add an attribute called `age` to the `__init__` method of the `Person` class.\n",
    "\n",
    "Create an instance of `Person()` and print the `age`."
   ]
  },
  {
   "cell_type": "code",
   "execution_count": 30,
   "id": "d9857301-6a2a-424f-bf03-b8da9bcc483c",
   "metadata": {},
   "outputs": [
    {
     "name": "stdout",
     "output_type": "stream",
     "text": [
      "29\n"
     ]
    }
   ],
   "source": [
    "#class Person():\n",
    "    \n",
    "   #def __init__(self, name, occupation, country):\n",
    "        #self.name = name\n",
    "        #self.occupation = occupation\n",
    "        #self.country = country\n",
    "        # you attribute goes here\n",
    "\n",
    "class Person():\n",
    "    \n",
    "    def __init__(self, name, occupation, country, age):\n",
    "        self.name = name\n",
    "        self.occupation = occupation\n",
    "        self.country = country\n",
    "        self.age = age\n",
    "\n",
    "Andi = Person('Andi', 'Pilot', 'American', 29)\n",
    "\n",
    "print(Andi.age)"
   ]
  },
  {
   "cell_type": "markdown",
   "id": "4f0f1b43-fefa-4f47-882f-f47800543fa9",
   "metadata": {},
   "source": [
    "7. (3 pts) Add a `static` method of your choice to the class below. \n",
    "\n",
    "Instantiate an object and call your method. \n",
    "\n",
    "What is a static method? (1 pt for your answer here) "
   ]
  },
  {
   "cell_type": "code",
   "execution_count": 6,
   "id": "8bdb974b-86b6-4376-ac0e-be5982fce59b",
   "metadata": {},
   "outputs": [
    {
     "name": "stdout",
     "output_type": "stream",
     "text": [
      "Anne Hathaway:*waves across busy street*\n",
      "Meryl Streep: *stares, then, gets into car*\n"
     ]
    }
   ],
   "source": [
    "class actress():\n",
    "    def __init__(self, name):\n",
    "        self.name = name\n",
    "        \n",
    "    def act(self, line):\n",
    "        print(f'{self.name}: {line}')\n",
    "        \n",
    "    @staticmethod\n",
    "    def The_Devil(scene):\n",
    "        if scene.lower() == 'final scene':\n",
    "            print(f'{\"Anne Hathaway\"}:{\"*waves across busy street*\"}')\n",
    "        else:\n",
    "            print('I am not importing the entire script')\n",
    "            \n",
    "        \n",
    "meryl = actress('Meryl Streep')\n",
    "Anne = actress('Anne Hathaway')\n",
    "Anne.The_Devil('final scene')\n",
    "meryl.act('*stares, then, gets into car*')\n",
    "\n",
    "# a static method is a method of accessing a class that cannot change either object state or class state\n",
    "# For instance in this example, the static method cannot modify the __init__ name"
   ]
  },
  {
   "cell_type": "markdown",
   "id": "d02a50c2-0df8-47cf-ba86-43c3fe9734e7",
   "metadata": {},
   "source": [
    "8. (5 pts) Create a class called `Dice` that accepts a single argument called `number_of_dice`. \n",
    "\n",
    "Create an instance method called `roll`. \n",
    "\n",
    "`roll` should randomly pick a number for each die when called and print the results as a list. \n",
    "\n",
    "Create an instance of `Dice`. Then call `roll()` on your instance.\n",
    "\n",
    "Hint: Inside your class create an empty list called `dice`."
   ]
  },
  {
   "cell_type": "code",
   "execution_count": 36,
   "id": "417e11af-458f-4307-b69a-ff20a39c9855",
   "metadata": {},
   "outputs": [
    {
     "name": "stdout",
     "output_type": "stream",
     "text": [
      "[6, 5, 5, 2, 6]\n"
     ]
    }
   ],
   "source": [
    "# Helpful starter code\n",
    "from random import randrange\n",
    "\n",
    "#class Dice:\n",
    "    #def __init__(self, number_of_dice):\n",
    "        #self.number_of_dice = number_of_dice\n",
    "\n",
    "    #def Roll(number_of_dice):\n",
    "           # i = 0\n",
    "            #j = 0\n",
    "           # while i < number_of_dice:\n",
    "                #j = j+randrange(1,7)\n",
    "               # i+=1\n",
    "           # print(j)\n",
    "\n",
    "#this was my origional solution, but I skipped the list requirement.\n",
    "\n",
    "class Dice:\n",
    "    def __init__(self,NOD):\n",
    "        self.NOD = NOD\n",
    "\n",
    "    def Roll(NOD): #this is an instance method by default\n",
    "        i = 0\n",
    "        dic3 = []\n",
    "\n",
    "        while i < NOD:\n",
    "            dic3 = dic3 + [randrange(1,7)]\n",
    "            i+=1\n",
    "        print(dic3)\n",
    "\n",
    "Dice.Roll(5)"
   ]
  },
  {
   "cell_type": "markdown",
   "id": "627197ff-27e6-4839-a5c6-59cd6200d2fb",
   "metadata": {},
   "source": [
    "BONUS: (3 pts) Create a `class` called Car that accepts 3 attributes (make, model and year). \n",
    "\n",
    "In the `__init__` method give your instance those three attributes. \n",
    "\n",
    "Instantiate (create) an object that is your dream car. \n",
    "\n",
    "Print the make of your dream car using the object attributes. \n",
    "\n",
    "Then call the dir() method on your new object. (See your attrs are now included!)"
   ]
  },
  {
   "cell_type": "code",
   "execution_count": 40,
   "id": "2ffb5530-620a-43e0-8c48-4c9754f1f1b3",
   "metadata": {},
   "outputs": [
    {
     "name": "stdout",
     "output_type": "stream",
     "text": [
      "toyota\n"
     ]
    },
    {
     "data": {
      "text/plain": [
       "['__class__',\n",
       " '__delattr__',\n",
       " '__dict__',\n",
       " '__dir__',\n",
       " '__doc__',\n",
       " '__eq__',\n",
       " '__format__',\n",
       " '__ge__',\n",
       " '__getattribute__',\n",
       " '__gt__',\n",
       " '__hash__',\n",
       " '__init__',\n",
       " '__init_subclass__',\n",
       " '__le__',\n",
       " '__lt__',\n",
       " '__module__',\n",
       " '__ne__',\n",
       " '__new__',\n",
       " '__reduce__',\n",
       " '__reduce_ex__',\n",
       " '__repr__',\n",
       " '__setattr__',\n",
       " '__sizeof__',\n",
       " '__str__',\n",
       " '__subclasshook__',\n",
       " '__weakref__',\n",
       " 'make',\n",
       " 'model',\n",
       " 'year']"
      ]
     },
     "execution_count": 40,
     "metadata": {},
     "output_type": "execute_result"
    }
   ],
   "source": [
    "class Car:\n",
    "    def __init__(self,make,model,year):\n",
    "        self.make = make\n",
    "        self.model = model\n",
    "        self.year = year\n",
    "\n",
    "I_am_not_a_car_person = Car('toyota',2001,'prius')\n",
    "\n",
    "print(I_am_not_a_car_person.make)\n",
    "\n",
    "dir(I_am_not_a_car_person) # attributes are added on the end"
   ]
  },
  {
   "cell_type": "code",
   "execution_count": null,
   "id": "9521c8c9-1ac5-4a54-8e8c-cf67ab66d78a",
   "metadata": {},
   "outputs": [],
   "source": []
  }
 ],
 "metadata": {
  "kernelspec": {
   "display_name": "Python 3 (ipykernel)",
   "language": "python",
   "name": "python3"
  },
  "language_info": {
   "codemirror_mode": {
    "name": "ipython",
    "version": 3
   },
   "file_extension": ".py",
   "mimetype": "text/x-python",
   "name": "python",
   "nbconvert_exporter": "python",
   "pygments_lexer": "ipython3",
   "version": "3.9.1rc1"
  }
 },
 "nbformat": 4,
 "nbformat_minor": 5
}
